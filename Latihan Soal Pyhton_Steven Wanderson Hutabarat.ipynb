{
  "nbformat": 4,
  "nbformat_minor": 0,
  "metadata": {
    "colab": {
      "provenance": [],
      "authorship_tag": "ABX9TyNcdKmlpOsBeSTROQaSNacu",
      "include_colab_link": true
    },
    "kernelspec": {
      "name": "python3",
      "display_name": "Python 3"
    },
    "language_info": {
      "name": "python"
    }
  },
  "cells": [
    {
      "cell_type": "markdown",
      "metadata": {
        "id": "view-in-github",
        "colab_type": "text"
      },
      "source": [
        "<a href=\"https://colab.research.google.com/github/StevvAgri/Steven/blob/main/Latihan%20Soal%20Pyhton_Steven%20Wanderson%20Hutabarat.ipynb\" target=\"_parent\"><img src=\"https://colab.research.google.com/assets/colab-badge.svg\" alt=\"Open In Colab\"/></a>"
      ]
    },
    {
      "cell_type": "code",
      "source": [
        " # Soal 1\n",
        "\n",
        " nama = input(\"Masukkan nama anda: \")\n",
        " print(\"Halo,\",nama,\"! Selamat belajar pyhton!\")"
      ],
      "metadata": {
        "colab": {
          "base_uri": "https://localhost:8080/"
        },
        "id": "2Pr4CbftlTOW",
        "outputId": "1fdc06f7-10bb-4241-d225-c294cd1862ea"
      },
      "execution_count": 24,
      "outputs": [
        {
          "output_type": "stream",
          "name": "stdout",
          "text": [
            "Masukkan nama anda: Steven\n",
            "Halo, Steven ! Selamat belajar pyhton!\n"
          ]
        }
      ]
    },
    {
      "cell_type": "code",
      "source": [
        "# Soal 2\n",
        "\n",
        "panjang = input(\"Masukkan panjang: \")\n",
        "lebar = input(\"Masukkan lebar: \")\n",
        "Luas = int(panjang) * int(lebar)\n",
        "print(\"Luas Persegi Panjang: \", Luas)"
      ],
      "metadata": {
        "colab": {
          "base_uri": "https://localhost:8080/"
        },
        "id": "tXmof6XKmov-",
        "outputId": "cb527a00-2c21-44e2-dc2e-243785232122"
      },
      "execution_count": 23,
      "outputs": [
        {
          "output_type": "stream",
          "name": "stdout",
          "text": [
            "Masukkan panjang: 12\n",
            "Masukkan lebar: 5\n",
            "Luas Persegi Panjang:  60\n"
          ]
        }
      ]
    },
    {
      "cell_type": "code",
      "source": [
        "# Soal 3\n",
        "\n",
        "bilangan = int(input(\"Masukkan bilangan: \"))\n",
        "if bilangan % 2 == 0:\n",
        "  print(bilangan, \"adalah bilangan genap\")\n",
        "else:\n",
        "  print(bilangan, \"adalah bilangan ganjil\")"
      ],
      "metadata": {
        "colab": {
          "base_uri": "https://localhost:8080/"
        },
        "id": "CyohpRiApZ_8",
        "outputId": "6bd96531-67a3-4971-eb6f-c3d39889c941"
      },
      "execution_count": 29,
      "outputs": [
        {
          "output_type": "stream",
          "name": "stdout",
          "text": [
            "Masukkan bilangan: 7\n",
            "7 adalah bilangan ganjil\n"
          ]
        }
      ]
    },
    {
      "cell_type": "code",
      "source": [
        "# Soal 4\n",
        "\n",
        "for i in range(1, 21):\n",
        "  print(i, end= \" \")"
      ],
      "metadata": {
        "colab": {
          "base_uri": "https://localhost:8080/"
        },
        "id": "WwYpUd5LrqVb",
        "outputId": "d9e4fc3d-b2fb-4e34-95d7-fcedbd099ef2"
      },
      "execution_count": 40,
      "outputs": [
        {
          "output_type": "stream",
          "name": "stdout",
          "text": [
            "1 2 3 4 5 6 7 8 9 10 11 12 13 14 15 16 17 18 19 20 "
          ]
        }
      ]
    },
    {
      "cell_type": "code",
      "source": [
        "# Soal 5\n",
        "# for version\n",
        "\n",
        "x = int(input(\"Masukkan bilangan pertama: \"))\n",
        "y = int(input(\"Masukkan bilangan kedua: \"))\n",
        "\n",
        "Jumlah = int(0)\n",
        "\n",
        "for i in range (x, y+1):\n",
        "  Jumlah = Jumlah + i\n",
        "\n",
        "print(\"Jumlah\", Jumlah)"
      ],
      "metadata": {
        "colab": {
          "base_uri": "https://localhost:8080/"
        },
        "id": "Os5VeP-7uwWB",
        "outputId": "13fbcf11-423d-451a-8a16-9f1d127dda09"
      },
      "execution_count": 49,
      "outputs": [
        {
          "output_type": "stream",
          "name": "stdout",
          "text": [
            "Masukkan bilangan pertama: 1\n",
            "Masukkan bilangan kedua: 7\n",
            "Jumlah 28\n"
          ]
        }
      ]
    },
    {
      "cell_type": "code",
      "source": [
        "# while version\n",
        "\n",
        "x = input(\"Masukkan bilangan pertama: \")\n",
        "y = input(\"Masukkan bilangan kedua: \")\n",
        "\n",
        "Jumlah = int(0)\n",
        "\n",
        "while int(x) <= int(y):\n",
        "  Jumlah += int(x)\n",
        "  x = int(x) +1\n",
        "\n",
        "print(\"Jumlah\", Jumlah)"
      ],
      "metadata": {
        "colab": {
          "base_uri": "https://localhost:8080/"
        },
        "id": "l9GlINXZxAKp",
        "outputId": "ce2b85d5-fe17-419e-b4a6-3a9e9b825090"
      },
      "execution_count": 48,
      "outputs": [
        {
          "output_type": "stream",
          "name": "stdout",
          "text": [
            "Masukkan bilangan pertama: 1\n",
            "Masukkan bilangan kedua: 7\n",
            "Jumlah 28\n"
          ]
        }
      ]
    },
    {
      "cell_type": "code",
      "source": [
        "# Soal 6\n",
        "\n",
        "a = int(input(\"Masukkan bilangan pertama: \"))\n",
        "b = int(input(\"Masukkan bilangan kedua: \"))\n",
        "\n",
        "print(f\"bilangan genap antara {a} dan {b} adalah: \")\n",
        "\n",
        "for i in range(a, b+1):\n",
        "  if i % 2 == 0:\n",
        "    print(i)"
      ],
      "metadata": {
        "colab": {
          "base_uri": "https://localhost:8080/"
        },
        "id": "rsCKq5nty6XP",
        "outputId": "d3633f71-d1ea-40c3-c05e-b798d8f4467b"
      },
      "execution_count": 56,
      "outputs": [
        {
          "output_type": "stream",
          "name": "stdout",
          "text": [
            "Masukkan bilangan pertama: 1\n",
            "Masukkan bilangan kedua: 7\n",
            "bilangan genap antara 1 dan 7 adalah: \n",
            "2\n",
            "4\n",
            "6\n"
          ]
        }
      ]
    },
    {
      "cell_type": "code",
      "source": [
        "# Soal 7\n",
        "\n",
        "X = [5, 2, 8, 1]\n",
        "Array_Terbalik = [0] * len(X)\n",
        "\n",
        "for i in range(len(X)):\n",
        "  Array_Terbalik[i] = X[-i -1]\n",
        "\n",
        "print(f\"Array Terbalik: {Array_Terbalik}\")"
      ],
      "metadata": {
        "colab": {
          "base_uri": "https://localhost:8080/"
        },
        "id": "QDfjB5Up1E5e",
        "outputId": "47a3c256-c1a8-4076-ab5b-9a8e181762f4"
      },
      "execution_count": 79,
      "outputs": [
        {
          "output_type": "stream",
          "name": "stdout",
          "text": [
            "Array Terbalik: [1, 8, 2, 5]\n"
          ]
        }
      ]
    },
    {
      "cell_type": "code",
      "source": [
        "# Soal 8\n",
        "\n",
        "bilangan = int(input(\"Masukkan bilangan bulat: \"))\n",
        "prima = True\n",
        "\n",
        "if bilangan <= 2:\n",
        "  prima = False\n",
        "else:\n",
        "  for i in range(2, bilangan):\n",
        "    if bilangan % i == 0:\n",
        "      prima = False\n",
        "      break\n",
        "\n",
        "if prima:\n",
        "  print(bilangan, \"adalah bilangan prima\")\n",
        "else:\n",
        "  print(bilangan, \"bukan bilangan prima\")\n"
      ],
      "metadata": {
        "colab": {
          "base_uri": "https://localhost:8080/"
        },
        "id": "OPRd3UZ-9Lm7",
        "outputId": "2119c798-6c5d-4519-89da-1992cb517ba0"
      },
      "execution_count": 81,
      "outputs": [
        {
          "output_type": "stream",
          "name": "stdout",
          "text": [
            "Masukkan bilangan bulat: 13\n",
            "13 adalah bilangan prima\n"
          ]
        }
      ]
    }
  ]
}