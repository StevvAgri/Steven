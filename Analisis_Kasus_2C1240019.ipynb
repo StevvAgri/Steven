{
  "nbformat": 4,
  "nbformat_minor": 0,
  "metadata": {
    "colab": {
      "provenance": [],
      "authorship_tag": "ABX9TyNT6RgwyfFrgangmSN75/Ql",
      "include_colab_link": true
    },
    "kernelspec": {
      "name": "python3",
      "display_name": "Python 3"
    },
    "language_info": {
      "name": "python"
    }
  },
  "cells": [
    {
      "cell_type": "markdown",
      "metadata": {
        "id": "view-in-github",
        "colab_type": "text"
      },
      "source": [
        "<a href=\"https://colab.research.google.com/github/StevvAgri/Steven/blob/main/Analisis_Kasus_2C1240019.ipynb\" target=\"_parent\"><img src=\"https://colab.research.google.com/assets/colab-badge.svg\" alt=\"Open In Colab\"/></a>"
      ]
    },
    {
      "cell_type": "code",
      "source": [
        "# Maksimum 2 Bilangan\n",
        "\n",
        "A = int(input(\"Masukkan bilangan A: \"))\n",
        "B = int(input(\"Masukkan bilangan B: \"))\n",
        "\n",
        "# Menentukan bilangan terbesar\n",
        "if A > B:\n",
        "    print(\"Bilangan terbesar adalah A\")\n",
        "elif A < B:\n",
        "    print(\"Bilangan terbesar adalah B\")\n",
        "else:\n",
        "    print(\"Bilangan terbesar adalah A atau B\")\n"
      ],
      "metadata": {
        "colab": {
          "base_uri": "https://localhost:8080/"
        },
        "id": "TEbh6_uqvoZD",
        "outputId": "70d5dc58-f12d-4108-db16-8b4f19a0f9da"
      },
      "execution_count": null,
      "outputs": [
        {
          "output_type": "stream",
          "name": "stdout",
          "text": [
            "Masukkan bilangan A: 2\n",
            "Masukkan bilangan B: 1\n",
            "Bilangan terbesar adalah A\n"
          ]
        }
      ]
    },
    {
      "cell_type": "code",
      "execution_count": null,
      "metadata": {
        "colab": {
          "base_uri": "https://localhost:8080/"
        },
        "id": "Xer1a3exm1XL",
        "outputId": "fde43e84-0b04-4cf9-8766-1050c5458391"
      },
      "outputs": [
        {
          "output_type": "stream",
          "name": "stdout",
          "text": [
            "Masukkan R1:12\n",
            "Masukkan R2:-9\n",
            "Masukkan R3:8\n",
            "Hambatan total tidak bisa dihitung\n"
          ]
        }
      ],
      "source": [
        "# Program menghitung hambatan total seri\n",
        "\n",
        "R1 = float(input(\"Masukkan R1:\"))\n",
        "R2 = float(input(\"Masukkan R2:\"))\n",
        "R3 = float(input(\"Masukkan R3:\"))\n",
        "\n",
        "Rt = R1 + R2 + R3\n",
        "\n",
        "if R1 < 0 or R2 < 0 or R3 < 0:\n",
        " print(\"Hambatan total tidak bisa dihitung\")\n",
        "else:\n",
        "  print(Rt)"
      ]
    }
  ]
}