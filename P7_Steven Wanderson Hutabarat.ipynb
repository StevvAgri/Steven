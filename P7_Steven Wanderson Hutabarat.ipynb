{
  "nbformat": 4,
  "nbformat_minor": 0,
  "metadata": {
    "colab": {
      "provenance": [],
      "authorship_tag": "ABX9TyOEP0cOMcx5CtbVwAm60LKA",
      "include_colab_link": true
    },
    "kernelspec": {
      "name": "python3",
      "display_name": "Python 3"
    },
    "language_info": {
      "name": "python"
    }
  },
  "cells": [
    {
      "cell_type": "markdown",
      "metadata": {
        "id": "view-in-github",
        "colab_type": "text"
      },
      "source": [
        "<a href=\"https://colab.research.google.com/github/StevvAgri/Steven/blob/main/P7_Steven%20Wanderson%20Hutabarat.ipynb\" target=\"_parent\"><img src=\"https://colab.research.google.com/assets/colab-badge.svg\" alt=\"Open In Colab\"/></a>"
      ]
    },
    {
      "cell_type": "code",
      "source": [
        "# perulangan while\n",
        "\n",
        "# contoh 1\n",
        "# tampilkan output angka ganjil\n",
        "# gunakan perulangan while\n",
        "\n",
        "# Algoritma\n",
        "N = int(input())\n",
        "i = 1\n",
        "\n",
        "while i <= N:\n",
        "    if i % 2 != 0:\n",
        "      print(i)\n",
        "    i += 1"
      ],
      "metadata": {
        "colab": {
          "base_uri": "https://localhost:8080/"
        },
        "id": "mUswNrrAv7y0",
        "outputId": "cbdeed94-d7e7-427c-f706-8cff28ded16b"
      },
      "execution_count": null,
      "outputs": [
        {
          "output_type": "stream",
          "name": "stdout",
          "text": [
            "12\n",
            "1\n",
            "3\n",
            "5\n",
            "7\n",
            "9\n",
            "11\n"
          ]
        }
      ]
    },
    {
      "cell_type": "code",
      "source": [
        "angka = 1\n",
        "\n",
        "while angka < 8:\n",
        "    print(angka)\n",
        "    angka += 1"
      ],
      "metadata": {
        "colab": {
          "base_uri": "https://localhost:8080/"
        },
        "id": "gzCYoI-h0U0v",
        "outputId": "ceecbd23-906b-436b-dcb9-fcad30f48ee3"
      },
      "execution_count": null,
      "outputs": [
        {
          "output_type": "stream",
          "name": "stdout",
          "text": [
            "1\n",
            "2\n",
            "3\n",
            "4\n",
            "5\n",
            "6\n",
            "7\n"
          ]
        }
      ]
    },
    {
      "cell_type": "code",
      "source": [
        "# pengulangan for\n",
        "\n",
        "for i in range(1, 11, 2):\n",
        "    print(\"angka ke-\", i)"
      ],
      "metadata": {
        "colab": {
          "base_uri": "https://localhost:8080/"
        },
        "id": "j0vZ3cSv2JXQ",
        "outputId": "d7008cfb-8329-4f60-d699-15f9cd7fcee4"
      },
      "execution_count": null,
      "outputs": [
        {
          "output_type": "stream",
          "name": "stdout",
          "text": [
            "angka ke- 1\n",
            "angka ke- 3\n",
            "angka ke- 5\n",
            "angka ke- 7\n",
            "angka ke- 9\n"
          ]
        }
      ]
    },
    {
      "cell_type": "code",
      "source": [
        "# nested for\n",
        "n = int(input(\"masukkan nilai n :\"))\n",
        "\n",
        "for i in range(n):\n",
        "    for j in range(n):\n",
        "        print(i, j)"
      ],
      "metadata": {
        "colab": {
          "base_uri": "https://localhost:8080/"
        },
        "id": "nTgrDmi95gCH",
        "outputId": "54cf897d-29dd-43a1-df49-10659fc7d451"
      },
      "execution_count": null,
      "outputs": [
        {
          "output_type": "stream",
          "name": "stdout",
          "text": [
            "masukkan nilai n :3\n",
            "0 0\n",
            "0 1\n",
            "0 2\n",
            "1 0\n",
            "1 1\n",
            "1 2\n",
            "2 0\n",
            "2 1\n",
            "2 2\n"
          ]
        }
      ]
    },
    {
      "cell_type": "code",
      "source": [
        "# kontrol perulangan\n",
        "\n",
        "for i in range(1, 6):\n",
        "    if i == 3:\n",
        "        break\n",
        "    print(i)"
      ],
      "metadata": {
        "colab": {
          "base_uri": "https://localhost:8080/"
        },
        "id": "tcFrqAk98xao",
        "outputId": "c4a298d2-c65a-4655-9a16-81343d4d30e1"
      },
      "execution_count": null,
      "outputs": [
        {
          "output_type": "stream",
          "name": "stdout",
          "text": [
            "1\n",
            "2\n"
          ]
        }
      ]
    },
    {
      "cell_type": "code",
      "source": [
        "for i in range(1, 6):\n",
        "    if i == 3:\n",
        "        continue\n",
        "    print(i)"
      ],
      "metadata": {
        "colab": {
          "base_uri": "https://localhost:8080/"
        },
        "id": "q46fn6Yh9uJ5",
        "outputId": "82439032-cb72-4793-b142-13ec83c77395"
      },
      "execution_count": null,
      "outputs": [
        {
          "output_type": "stream",
          "name": "stdout",
          "text": [
            "1\n",
            "2\n",
            "4\n",
            "5\n"
          ]
        }
      ]
    },
    {
      "cell_type": "code",
      "source": [
        "angka_rahasia = 7\n",
        "percobaan = 0\n",
        "\n",
        "while percobaan < 3:\n",
        "    percobaan += 1\n",
        "    tebakan = int(input(\"Masukkan tebakan Anda: \"))\n",
        "    if tebakan == angka_rahasia:\n",
        "        print(\"Selamat! Anda berhasil menebak angka rahasia.\")\n",
        "        break"
      ],
      "metadata": {
        "colab": {
          "base_uri": "https://localhost:8080/"
        },
        "id": "JyzQRhLw-G1g",
        "outputId": "83e81d8c-9504-4f04-fb0d-10f90fe96e47"
      },
      "execution_count": null,
      "outputs": [
        {
          "output_type": "stream",
          "name": "stdout",
          "text": [
            "Masukkan tebakan Anda: 7\n",
            "Selamat! Anda berhasil menebak angka rahasia.\n"
          ]
        }
      ]
    },
    {
      "cell_type": "markdown",
      "source": [
        "P7"
      ],
      "metadata": {
        "id": "FPg0qi5GQUAY"
      }
    },
    {
      "cell_type": "code",
      "source": [
        "# Latihan Praktikum\n",
        "\n",
        "jumlah_barang = int(input(\"Masukkan jumlah barang yang dibeli: \"))\n",
        "Total_Belanja = 0\n",
        "\n",
        "for i in range(jumlah_barang):\n",
        "    harga_satuan = float(input(\"Masukkan harga satuan barang ke-\" + str(i+1) + \": \"))\n",
        "    jumlah_unit = int(input(\"Masukkan jumlah unit barang ke-\" + str(i+1) + \": \"))\n",
        "    total_harga_barang = harga_satuan * jumlah_unit\n",
        "    Total_Belanja += total_harga_barang\n",
        "\n",
        "print(\"Total belanja Anda adalah: \" + str(Total_Belanja))"
      ],
      "metadata": {
        "colab": {
          "base_uri": "https://localhost:8080/"
        },
        "id": "zrTFyi-aQTnY",
        "outputId": "03480d20-7133-4665-ec58-6a8371d00c83"
      },
      "execution_count": 7,
      "outputs": [
        {
          "output_type": "stream",
          "name": "stdout",
          "text": [
            "Masukkan jumlah barang yang dibeli: 1\n",
            "Masukkan harga satuan barang ke-1: 15\n",
            "Masukkan jumlah unit barang ke-1: 100\n",
            "Total belanja Anda adalah: 1500.0\n"
          ]
        }
      ]
    }
  ]
}