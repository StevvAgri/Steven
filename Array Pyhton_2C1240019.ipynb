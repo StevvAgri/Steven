{
  "nbformat": 4,
  "nbformat_minor": 0,
  "metadata": {
    "colab": {
      "provenance": [],
      "authorship_tag": "ABX9TyMXXOm4F29Osr80iPmrtrGe",
      "include_colab_link": true
    },
    "kernelspec": {
      "name": "python3",
      "display_name": "Python 3"
    },
    "language_info": {
      "name": "python"
    }
  },
  "cells": [
    {
      "cell_type": "markdown",
      "metadata": {
        "id": "view-in-github",
        "colab_type": "text"
      },
      "source": [
        "<a href=\"https://colab.research.google.com/github/StevvAgri/Steven/blob/main/Array%20Pyhton_2C1240019.ipynb\" target=\"_parent\"><img src=\"https://colab.research.google.com/assets/colab-badge.svg\" alt=\"Open In Colab\"/></a>"
      ]
    },
    {
      "cell_type": "code",
      "execution_count": null,
      "metadata": {
        "colab": {
          "base_uri": "https://localhost:8080/"
        },
        "id": "qljnE5G-m359",
        "outputId": "e0353a4f-9a96-4ce7-d17e-c81324bbc559"
      },
      "outputs": [
        {
          "output_type": "stream",
          "name": "stdout",
          "text": [
            "Masukkan nilai D: 3\n",
            "Elemen S yang baru: [6, 9, -12, 15, 21, 27]\n"
          ]
        }
      ],
      "source": [
        "# Latihan 1\n",
        "\n",
        "S = [2, 3, -4, 5, 7, 9]\n",
        "D = int(input(\"Masukkan nilai D: \"))\n",
        "\n",
        "for i in range(len(S)):\n",
        "  S[i] *= D\n",
        "\n",
        "print(\"Elemen S yang baru:\", S)"
      ]
    },
    {
      "cell_type": "code",
      "source": [
        "# Latihan 2\n",
        "\n",
        "N = 5\n",
        "T = [-2, 3, 9, -5, 8]\n",
        "\n",
        "terbesar = T[0]\n",
        "\n",
        "for i in range(1, N):\n",
        "  if T[i] > terbesar:\n",
        "    terbesar = T[i]\n",
        "\n",
        "print(\"Elemen terbesar:\", terbesar)\n"
      ],
      "metadata": {
        "colab": {
          "base_uri": "https://localhost:8080/"
        },
        "id": "stUMJBRgqQAj",
        "outputId": "08d0a33c-2e04-4745-ea9b-a66e477688f4"
      },
      "execution_count": null,
      "outputs": [
        {
          "output_type": "stream",
          "name": "stdout",
          "text": [
            "Elemen terbesar: 8\n"
          ]
        }
      ]
    }
  ]
}