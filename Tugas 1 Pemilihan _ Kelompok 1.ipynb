{
  "nbformat": 4,
  "nbformat_minor": 0,
  "metadata": {
    "colab": {
      "provenance": [],
      "authorship_tag": "ABX9TyNfPTJu2vINSzuNi5LY6HTZ",
      "include_colab_link": true
    },
    "kernelspec": {
      "name": "python3",
      "display_name": "Python 3"
    },
    "language_info": {
      "name": "python"
    }
  },
  "cells": [
    {
      "cell_type": "markdown",
      "metadata": {
        "id": "view-in-github",
        "colab_type": "text"
      },
      "source": [
        "<a href=\"https://colab.research.google.com/github/StevvAgri/Steven/blob/main/Tugas%201%20Pemilihan%20_%20Kelompok%201.ipynb\" target=\"_parent\"><img src=\"https://colab.research.google.com/assets/colab-badge.svg\" alt=\"Open In Colab\"/></a>"
      ]
    },
    {
      "cell_type": "markdown",
      "source": [
        "Soal No 1"
      ],
      "metadata": {
        "id": "E3lm7U40gJW-"
      }
    },
    {
      "cell_type": "code",
      "source": [
        "bulan = int(input(\"Masukkan Bulan : \"))\n",
        "tahun = 2024\n",
        "\n",
        "if bulan in [1, 3, 5, 7, 8, 10, 12]:\n",
        "  jumlah_hari = 31\n",
        "elif bulan in [4, 6, 9, 11]:\n",
        "  jumlah_hari = 30\n",
        "elif bulan == 2:\n",
        "  jumlah_hari = 29 if (tahun % 4 == 0 and tahun % 100 != 0) or (tahun % 400 == 0) else 28\n",
        "else:\n",
        "  print(\"Bulan tidak valid\")\n",
        "\n",
        "print(f\"jumlah hari pada bulan {bulan} tahun {tahun} adalah {jumlah_hari}\")"
      ],
      "metadata": {
        "colab": {
          "base_uri": "https://localhost:8080/"
        },
        "id": "eF1qfWJIdiEH",
        "outputId": "d4db0654-cd3c-4816-d7f9-07326ab6aba0"
      },
      "execution_count": 5,
      "outputs": [
        {
          "output_type": "stream",
          "name": "stdout",
          "text": [
            "Masukkan Bulan : 2\n",
            "jumlah hari pada bulan 2 tahun 2024 adalah 29\n"
          ]
        }
      ]
    },
    {
      "cell_type": "markdown",
      "source": [
        "Soal No 2"
      ],
      "metadata": {
        "id": "QXvZ0s_xgMyl"
      }
    },
    {
      "cell_type": "code",
      "source": [
        "# Input data\n",
        "hari = int(input(\"Masukkan tanggal: \"))\n",
        "bulan = int(input(\"Masukkan bulan (1-12): \"))\n",
        "tahun = int(input(\"Masukkan tahun: \"))\n",
        "\n",
        "# Fungsi untuk mengecek tahun kabisat\n",
        "def tahun_kabisat(tahun):\n",
        "    return (tahun % 4 == 0 and tahun % 100 != 0) or (tahun % 400 == 0)\n",
        "\n",
        "# Menentukan jumlah hari dalam bulan\n",
        "if bulan in [1, 3, 5, 7, 8, 10, 12]:\n",
        "    max_hari = 31\n",
        "elif bulan in [4, 6, 9, 11]:\n",
        "    max_hari = 30\n",
        "elif bulan == 2:\n",
        "    max_hari = 29 if tahun_kabisat(tahun) else 28\n",
        "\n",
        "# Menentukan tanggal besok\n",
        "if hari < max_hari:\n",
        "    hari += 1\n",
        "else:\n",
        "    hari = 1\n",
        "    if bulan == 12:\n",
        "        bulan = 1\n",
        "        tahun += 1\n",
        "    else:\n",
        "        bulan += 1\n",
        "\n",
        "# Menampilkan hasil\n",
        "print(f\"Tanggal besok: {hari}-{bulan}-{tahun}\")"
      ],
      "metadata": {
        "colab": {
          "base_uri": "https://localhost:8080/"
        },
        "id": "TEcvQC52gIif",
        "outputId": "ae7d8e1f-0587-4813-9fa4-e1390773291f"
      },
      "execution_count": 8,
      "outputs": [
        {
          "output_type": "stream",
          "name": "stdout",
          "text": [
            "Masukkan tanggal: 29\n",
            "Masukkan bulan (1-12): 2\n",
            "Masukkan tahun: 2024\n",
            "Tanggal besok: 1-3-2024\n"
          ]
        }
      ]
    },
    {
      "cell_type": "markdown",
      "source": [
        "Soal No 3"
      ],
      "metadata": {
        "id": "i62Zu_6AitrC"
      }
    },
    {
      "cell_type": "code",
      "source": [
        "belanja = int(input(\"Masukkan nilai belanja: \"))\n",
        "\n",
        "sisa = belanja % 25\n",
        "if sisa != 0:\n",
        "    belanja -= sisa\n",
        "\n",
        "print(f\"Nilai belanja yang dibulatkan: Rp{belanja}\")"
      ],
      "metadata": {
        "colab": {
          "base_uri": "https://localhost:8080/"
        },
        "id": "nWoVLgfoivXr",
        "outputId": "464dd99b-deb7-49b9-8677-ecbe5b2fd968"
      },
      "execution_count": 15,
      "outputs": [
        {
          "output_type": "stream",
          "name": "stdout",
          "text": [
            "Masukkan nilai belanja: 19234\n",
            "Nilai belanja yang dibulatkan: Rp19225\n"
          ]
        }
      ]
    }
  ]
}