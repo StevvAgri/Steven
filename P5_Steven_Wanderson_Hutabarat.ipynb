{
  "nbformat": 4,
  "nbformat_minor": 0,
  "metadata": {
    "colab": {
      "provenance": [],
      "authorship_tag": "ABX9TyMycPnkX8PGVjOoAJVXgVKM",
      "include_colab_link": true
    },
    "kernelspec": {
      "name": "python3",
      "display_name": "Python 3"
    },
    "language_info": {
      "name": "python"
    }
  },
  "cells": [
    {
      "cell_type": "markdown",
      "metadata": {
        "id": "view-in-github",
        "colab_type": "text"
      },
      "source": [
        "<a href=\"https://colab.research.google.com/github/StevvAgri/Steven/blob/main/P5_Steven_Wanderson_Hutabarat.ipynb\" target=\"_parent\"><img src=\"https://colab.research.google.com/assets/colab-badge.svg\" alt=\"Open In Colab\"/></a>"
      ]
    },
    {
      "cell_type": "markdown",
      "source": [
        "P5"
      ],
      "metadata": {
        "id": "Wfmw6po18JME"
      }
    },
    {
      "cell_type": "code",
      "source": [
        "# SoalSatu\n",
        "Sisi = 12\n",
        "S = 12\n",
        "luas = Sisi * S\n",
        "print(luas)"
      ],
      "metadata": {
        "colab": {
          "base_uri": "https://localhost:8080/"
        },
        "id": "qLkrOPHJ8LVI",
        "outputId": "c67bc2af-8510-4579-8a62-9ebcf37c1509"
      },
      "execution_count": null,
      "outputs": [
        {
          "output_type": "stream",
          "name": "stdout",
          "text": [
            "144\n"
          ]
        }
      ]
    },
    {
      "cell_type": "code",
      "source": [
        "# soalDua\n",
        "\n",
        "namaDepan = \"Steven\"\n",
        "namaTengah = \"Wanderson\"\n",
        "namaBelakang = \"Hutabarat\"\n",
        "nama = namaDepan + \" \" + namaTengah + \" \" + namaBelakang\n",
        "NIM = \"2C1240019\"\n",
        "Fakultas = \"Sains Dan Teknologi\"\n",
        "Jurusan = \"Agribisnis\"\n",
        "kotaAsal = \"Jambi\"\n",
        "alamat = \"Jatinangor\"\n",
        "print(\"Biodata_Mahasiswa\\n\", nama, \"\\n\", NIM, \"\\n\", Fakultas, \"\\n\", Jurusan, \"\\n\", kotaAsal, \"\\n\", alamat)"
      ],
      "metadata": {
        "colab": {
          "base_uri": "https://localhost:8080/"
        },
        "id": "1hi9z4hn8cn2",
        "outputId": "bd3f6399-4d5b-464f-f1ca-dae79ca4485a"
      },
      "execution_count": null,
      "outputs": [
        {
          "output_type": "stream",
          "name": "stdout",
          "text": [
            "Biodata_Mahasiswa\n",
            " Steven Wanderson Hutabarat \n",
            " 2C1240019 \n",
            " Sains Dan Teknologi \n",
            " Agribisnis \n",
            " Jambi \n",
            " Jatinangor\n"
          ]
        }
      ]
    }
  ]
}