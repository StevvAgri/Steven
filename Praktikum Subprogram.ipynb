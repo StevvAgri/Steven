{
  "cells": [
    {
      "cell_type": "markdown",
      "metadata": {
        "id": "view-in-github",
        "colab_type": "text"
      },
      "source": [
        "<a href=\"https://colab.research.google.com/github/StevvAgri/Steven/blob/main/Praktikum%20Subprogram.ipynb\" target=\"_parent\"><img src=\"https://colab.research.google.com/assets/colab-badge.svg\" alt=\"Open In Colab\"/></a>"
      ]
    },
    {
      "cell_type": "markdown",
      "source": [
        "Fungsi"
      ],
      "metadata": {
        "id": "iYjT8tnBdRBa"
      }
    },
    {
      "cell_type": "code",
      "source": [
        "def kuadrat(x):\n",
        "  x2 = x * x\n",
        "  return x2\n",
        "\n",
        "print(kuadrat(2))"
      ],
      "metadata": {
        "id": "8my5ueGBa6Wc",
        "outputId": "1126bc05-9b4a-4cfc-96d5-4eccb7b232f1",
        "colab": {
          "base_uri": "https://localhost:8080/"
        }
      },
      "execution_count": 9,
      "outputs": [
        {
          "output_type": "stream",
          "name": "stdout",
          "text": [
            "4\n"
          ]
        }
      ]
    },
    {
      "cell_type": "code",
      "source": [
        "def kuadrat(x):\n",
        "  x2 = x * x\n",
        "  return x2\n",
        "\n",
        "n = int(input())\n",
        "n2 = kuadrat(n)\n",
        "print(n2)"
      ],
      "metadata": {
        "id": "qUMjX3beY3O8",
        "outputId": "d125409b-122e-4dc9-a95f-feaff05677f9",
        "colab": {
          "base_uri": "https://localhost:8080/"
        }
      },
      "execution_count": 6,
      "outputs": [
        {
          "output_type": "stream",
          "name": "stdout",
          "text": [
            "27\n",
            "729\n"
          ]
        }
      ]
    },
    {
      "cell_type": "code",
      "source": [
        "def pangkat(a,b):\n",
        "  c = 1\n",
        "  for i in range(b):\n",
        "    c *= a\n",
        "  return c\n",
        "\n",
        "print(pangkat(2,3))"
      ],
      "metadata": {
        "id": "cwgHYRLgagJ8",
        "outputId": "d13953fb-ac33-48be-f227-158868380a14",
        "colab": {
          "base_uri": "https://localhost:8080/"
        }
      },
      "execution_count": 8,
      "outputs": [
        {
          "output_type": "stream",
          "name": "stdout",
          "text": [
            "8\n"
          ]
        }
      ]
    },
    {
      "cell_type": "markdown",
      "source": [
        "Prosedur"
      ],
      "metadata": {
        "id": "u3XLuopSdSyR"
      }
    },
    {
      "cell_type": "code",
      "source": [
        "# Tanpa Prosedur\n",
        "\n",
        "print(\" Menu:\")\n",
        "print(\" 1. Burger\")\n",
        "print(\" 2. Ayam Geprek\")\n",
        "print(\" 3. Mie Instan\")\n",
        "print(\" Masukkan pilihan: \")\n",
        "pilihan_makanan = int( input())\n",
        "print(\" Menu:\")\n",
        "print(\" 1. Jus Alpukat\")\n",
        "print(\" 2. Thai Tea\")\n",
        "print(\" 3. Teh Tarik\")\n",
        "print(\" Masukkan pilihan: \")\n",
        "pilihan_minuman = int( input())\n",
        "print(\" Menu:\")\n",
        "print(\" 1. Kentang\")\n",
        "print(\" 2. Krupuk\")\n",
        "print(\" 3. Abon\")\n",
        "print(\" Masukkan pilihan: \")\n",
        "pilihan_tambahan = int( input())"
      ],
      "metadata": {
        "id": "pvlryvwWbEEa",
        "outputId": "d8eeec89-3bae-4494-fc45-d168fa82e81b",
        "colab": {
          "base_uri": "https://localhost:8080/"
        }
      },
      "execution_count": 10,
      "outputs": [
        {
          "name": "stdout",
          "output_type": "stream",
          "text": [
            " Menu:\n",
            " 1. Burger\n",
            " 2. Ayam Geprek\n",
            " 3. Mie Instan\n",
            " Masukkan pilihan: \n",
            "2\n",
            " Menu:\n",
            " 1. Jus Alpukat\n",
            " 2. Thai Tea\n",
            " 3. Teh Tarik\n",
            " Masukkan pilihan: \n",
            "1\n",
            " Menu:\n",
            " 1. Kentang\n",
            " 2. Krupuk\n",
            " 3. Abon\n",
            " Masukkan pilihan: \n",
            "1\n"
          ]
        }
      ]
    },
    {
      "cell_type": "code",
      "source": [
        "# Menggunakan Prosedur\n",
        "\n",
        "def tulis_menu(pil1, pil2, pil3):\n",
        "    print(\" Menu:\")\n",
        "    print(\" 1. \" + str(pil1))\n",
        "    print(\" 2. \" + str(pil2))\n",
        "    print(\" 3. \" + str(pil3))\n",
        "    print(\" Masukkan pilihan: \")  # Prompt for input within the function\n",
        "\n",
        "# Get and return user input from within the function\n",
        "    pilihan = int(input())\n",
        "    return pilihan\n",
        "\n",
        "# Call tulis_menu and assign the returned value\n",
        "pilihan_makanan = tulis_menu(\"Burger\", \"Ayam Geprek\", \"Mie Instan\")\n",
        "print(\"Kamu memilih makanan nomor\", pilihan_makanan)\n",
        "pilihan_minuman = tulis_menu(\"Jus Alpukat\", \"Thai Tea\", \"Teh Tarik\")\n",
        "print(\"Kamu memilih minuman nomor\", pilihan_minuman)\n",
        "pilihan_tambahan = tulis_menu(\"Kentang\", \"Krupuk\", \"Abon\")\n",
        "print(\"Kamu memilih tambahan nomor\", pilihan_tambahan)"
      ],
      "metadata": {
        "id": "_gRxY9GZdmdh",
        "outputId": "233f8235-c150-40c3-dc00-6b7774c4d1d1",
        "colab": {
          "base_uri": "https://localhost:8080/"
        }
      },
      "execution_count": 19,
      "outputs": [
        {
          "output_type": "stream",
          "name": "stdout",
          "text": [
            " Menu:\n",
            " 1. Burger\n",
            " 2. Ayam Geprek\n",
            " 3. Mie Instan\n",
            " Masukkan pilihan: \n",
            "2\n",
            "Kamu memilih makanan nomor 2\n",
            " Menu:\n",
            " 1. Jus Alpukat\n",
            " 2. Thai Tea\n",
            " 3. Teh Tarik\n",
            " Masukkan pilihan: \n",
            "1\n",
            "Kamu memilih minuman nomor 1\n",
            " Menu:\n",
            " 1. Kentang\n",
            " 2. Krupuk\n",
            " 3. Abon\n",
            " Masukkan pilihan: \n",
            "2\n",
            "Kamu memilih tambahan nomor 2\n"
          ]
        }
      ]
    }
  ],
  "metadata": {
    "colab": {
      "name": "Welcome To Colab",
      "toc_visible": true,
      "provenance": [],
      "include_colab_link": true
    },
    "kernelspec": {
      "display_name": "Python 3",
      "name": "python3"
    }
  },
  "nbformat": 4,
  "nbformat_minor": 0
}