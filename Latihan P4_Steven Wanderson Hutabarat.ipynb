{
  "cells": [
    {
      "cell_type": "markdown",
      "metadata": {
        "id": "view-in-github",
        "colab_type": "text"
      },
      "source": [
        "<a href=\"https://colab.research.google.com/github/StevvAgri/Steven/blob/main/Latihan%20P4_Steven%20Wanderson%20Hutabarat.ipynb\" target=\"_parent\"><img src=\"https://colab.research.google.com/assets/colab-badge.svg\" alt=\"Open In Colab\"/></a>"
      ]
    },
    {
      "cell_type": "markdown",
      "source": [
        "Kalkulator Sederhana"
      ],
      "metadata": {
        "id": "laAObSnOhx2R"
      }
    },
    {
      "cell_type": "code",
      "source": [
        "# Cara 1\n",
        "\n",
        "def dua_bilangan(a, b):\n",
        "  jumlah = a + b\n",
        "  kurang = a - b\n",
        "  kali = a * b\n",
        "  bagi = a / b\n",
        "  return jumlah, kurang, kali, bagi\n",
        "\n",
        "jml, krg, kl, bg = dua_bilangan(10, 5)\n",
        "print(\"Hasil Penjumlahan: \", jml)\n",
        "print(\"Hasil Pengurangan: \", krg)\n",
        "print(\"Hasil Perkalian: \", kl)\n",
        "print(\"Hasil Pembagian: \", bg)"
      ],
      "metadata": {
        "id": "7HfiGVouhcgB",
        "outputId": "5a5ac952-1ceb-4f56-9429-3f2968148f24",
        "colab": {
          "base_uri": "https://localhost:8080/"
        }
      },
      "execution_count": 27,
      "outputs": [
        {
          "output_type": "stream",
          "name": "stdout",
          "text": [
            "Hasil Penjumlahan:  15\n",
            "Hasil Pengurangan:  5\n",
            "Hasil Perkalian:  50\n",
            "Hasil Pembagian:  2.0\n"
          ]
        }
      ]
    },
    {
      "cell_type": "code",
      "source": [
        "# Cara 2\n",
        "\n",
        "def tambah(a,b):\n",
        "  hasil = a + b\n",
        "  return hasil\n",
        "\n",
        "def kurang(a,b):\n",
        "  hasil = a - b\n",
        "  return hasil\n",
        "\n",
        "def kali(a,b):\n",
        "  hasil = a * b\n",
        "  return hasil\n",
        "\n",
        "def bagi(a,b):\n",
        "  hasil = a / b\n",
        "  return hasil\n",
        "\n",
        "# Input nilai a dan b\n",
        "a = input(\"Masukkan nilai a: \")\n",
        "b = input(\"Masukkan nilai b: \")\n",
        "\n",
        "# Memanggil fungsi dan menampung hasilnya\n",
        "tbh = tambah(int(a), int(b))\n",
        "krg = kurang(int(a), int(b))\n",
        "kl = kali(int(a), int(b))\n",
        "bg = bagi(int(a), int(b))\n",
        "\n",
        "print(\"Hasil penjumlahan adalah\", tbh)\n",
        "print(\"Hasil pengurangan adalah\", krg)\n",
        "print(\"Hasil perkalian adalah\", kl)\n",
        "print(\"Hasil pembagian adalah\", bg)"
      ],
      "metadata": {
        "id": "IkodDVP4jQCY",
        "outputId": "5e6a2048-6e05-4c94-f223-535f8a34c684",
        "colab": {
          "base_uri": "https://localhost:8080/"
        }
      },
      "execution_count": 60,
      "outputs": [
        {
          "output_type": "stream",
          "name": "stdout",
          "text": [
            "Masukkan nilai a: 10\n",
            "Masukkan nilai b: 5\n",
            "Hasil penjumlahan adalah 15\n",
            "Hasil pengurangan adalah 5\n",
            "Hasil perkalian adalah 50\n",
            "Hasil pembagian adalah 2.0\n"
          ]
        }
      ]
    },
    {
      "cell_type": "markdown",
      "source": [
        "Pola Segitiga"
      ],
      "metadata": {
        "id": "phPNVzPMkioJ"
      }
    },
    {
      "cell_type": "code",
      "source": [
        "n = 5\n",
        "for i in range(1, 1 + n):\n",
        "    for j in range(1, i + 1):\n",
        "        print(j, end=\" \")\n",
        "    print()"
      ],
      "metadata": {
        "id": "k--QOn-3iwgI",
        "outputId": "629b558e-272b-48ec-cf8b-13ad63d37343",
        "colab": {
          "base_uri": "https://localhost:8080/"
        }
      },
      "execution_count": 44,
      "outputs": [
        {
          "output_type": "stream",
          "name": "stdout",
          "text": [
            "1 \n",
            "1 2 \n",
            "1 2 3 \n",
            "1 2 3 4 \n",
            "1 2 3 4 5 \n"
          ]
        }
      ]
    },
    {
      "cell_type": "markdown",
      "source": [
        "Nilai Mahasiswa"
      ],
      "metadata": {
        "id": "9iBhyvmzmNN_"
      }
    },
    {
      "cell_type": "code",
      "source": [
        "# Cara 1\n",
        "\n",
        "n = int(input(\"Masukkan jumlah mahasiswa: \"))\n",
        "nilai_mahasiswa = [float(input(f\"Nilai ke-{i+1}: \")) for i in range(n)]\n",
        "\n",
        "total_nilai = sum(nilai_mahasiswa)\n",
        "rata_rata = total_nilai / n\n",
        "nilai_tertinggi = max(nilai_mahasiswa)\n",
        "nilai_terendah = min(nilai_mahasiswa)\n",
        "\n",
        "print(\"Total nilai ujian:\", total_nilai)\n",
        "print(\"Rata-rata nilai ujian:\", rata_rata)\n",
        "print(\"Nilai tertinggi ujian:\", nilai_tertinggi)\n",
        "print(\"Nilai terendah ujian:\", nilai_terendah)"
      ],
      "metadata": {
        "id": "P0YMcYfpnB5Q",
        "outputId": "95ea2859-5aaf-4daa-9c31-69ad2787a6b7",
        "colab": {
          "base_uri": "https://localhost:8080/"
        }
      },
      "execution_count": 66,
      "outputs": [
        {
          "output_type": "stream",
          "name": "stdout",
          "text": [
            "Masukkan jumlah mahasiswa: 3\n",
            "Nilai ke-1: 100\n",
            "Nilai ke-2: 78\n",
            "Nilai ke-3: 90\n",
            "Total nilai ujian: 268.0\n",
            "Rata-rata nilai ujian: 89.33333333333333\n",
            "Nilai tertinggi ujian: 100.0\n",
            "Nilai terendah ujian: 78.0\n"
          ]
        }
      ]
    },
    {
      "cell_type": "code",
      "source": [
        "# Cara 2\n",
        "# Asumsikan nilai ujian mahasiswa\n",
        "\n",
        "nilai_ujian = [85, 90, 78, 88, 92]\n",
        "\n",
        "# Menghitung seluruh nilai\n",
        "total_nilai = sum(nilai_ujian)\n",
        "print(\"Total nilai ujian:\", total_nilai)\n",
        "\n",
        "# Menghitung rata-rata nilai\n",
        "rata_rata = sum(nilai_ujian) / len(nilai_ujian)\n",
        "print(\"Rata-rata nilai ujian:\", rata_rata)\n",
        "\n",
        "# Menentukan nilai tertinggi dan terendah\n",
        "nilai_tertinggi = max(nilai_ujian)\n",
        "nilai_terendah = min(nilai_ujian)\n",
        "print(\"Nilai tertinggi ujian:\", nilai_tertinggi)\n",
        "print(\"Nilai terendah ujian:\", nilai_terendah)"
      ],
      "metadata": {
        "id": "p30fiKOOk77Q",
        "outputId": "20501526-28aa-4e3e-dc13-645289e95a60",
        "colab": {
          "base_uri": "https://localhost:8080/"
        }
      },
      "execution_count": 61,
      "outputs": [
        {
          "output_type": "stream",
          "name": "stdout",
          "text": [
            "Total nilai ujian: 433\n",
            "Rata-rata nilai ujian: 86.6\n",
            "Nilai tertinggi ujian: 92\n",
            "Nilai terendah ujian: 78\n"
          ]
        }
      ]
    },
    {
      "cell_type": "markdown",
      "source": [
        "Penjumlahan Matriks"
      ],
      "metadata": {
        "id": "cLrW_dMLoJM_"
      }
    },
    {
      "cell_type": "code",
      "source": [
        "# Inisialisasi matriks A dan B\n",
        "matriks_A = [[0, 0], [0, 0]]\n",
        "matriks_B = [[0, 0], [0, 0]]\n",
        "matriks_hasil = [[0, 0], [0, 0]]\n",
        "\n",
        "# Input matriks A\n",
        "print(\"Masukkan nilai matriks A:\")\n",
        "for i in range(2):\n",
        "    for j in range(2):\n",
        "        matriks_A[i][j] = int(input(f\"A[{i+1}][{j+1}]: \"))\n",
        "\n",
        "# Input matriks B\n",
        "print(\"Masukkan nilai matriks B:\")\n",
        "for i in range(2):\n",
        "    for j in range(2):\n",
        "        matriks_B[i][j] = int(input(f\"B[{i+1}][{j+1}]: \"))\n",
        "\n",
        "# Penjumlahan matriks\n",
        "for i in range(2):\n",
        "    for j in range(2):\n",
        "        matriks_hasil[i][j] = matriks_A[i][j] + matriks_B[i][j]\n",
        "\n",
        "# Menampilkan matriks hasil\n",
        "print(\"Hasil penjumlahan:\")\n",
        "for i in range(2):\n",
        "    for j in range(2):\n",
        "        print(matriks_hasil[i][j], end=\" \")\n",
        "    print()"
      ],
      "metadata": {
        "collapsed": true,
        "id": "F8aXb_FXpmT_",
        "outputId": "0edd5f65-cbb5-4abd-d32b-3f04d557e81f",
        "colab": {
          "base_uri": "https://localhost:8080/"
        }
      },
      "execution_count": 73,
      "outputs": [
        {
          "output_type": "stream",
          "name": "stdout",
          "text": [
            "Masukkan nilai matriks A:\n",
            "A[1][1]: 1\n",
            "A[1][2]: 2\n",
            "A[2][1]: 3\n",
            "A[2][2]: 4\n",
            "Masukkan nilai matriks B:\n",
            "B[1][1]: 5\n",
            "B[1][2]: 6\n",
            "B[2][1]: 7\n",
            "B[2][2]: 8\n",
            "Hasil penjumlahan:\n",
            "6 8 \n",
            "10 12 \n"
          ]
        }
      ]
    },
    {
      "cell_type": "markdown",
      "source": [
        "Kalkulator Gaji"
      ],
      "metadata": {
        "id": "jvCTH-P_p84x"
      }
    },
    {
      "cell_type": "code",
      "source": [
        "# Input gaji pokok\n",
        "gaji_pokok = float(input(\"Masukkan gaji pokok: \"))\n",
        "\n",
        "# Menghitung tunjangan dan potongan\n",
        "tunjangan = 0.10 * gaji_pokok\n",
        "potongan = 0.05 * gaji_pokok\n",
        "\n",
        "# Menghitung gaji bersih\n",
        "gaji_bersih = gaji_pokok + tunjangan - potongan\n",
        "\n",
        "# Menampilkan gaji bersih\n",
        "print(\"Gaji bersih:\", gaji_bersih)"
      ],
      "metadata": {
        "id": "JMw7Cwjpp_O3",
        "outputId": "19d4d855-b3fc-4bff-885a-d11632faf3ac",
        "colab": {
          "base_uri": "https://localhost:8080/"
        }
      },
      "execution_count": 74,
      "outputs": [
        {
          "output_type": "stream",
          "name": "stdout",
          "text": [
            "Masukkan gaji pokok: 5000000\n",
            "Gaji bersih: 5250000.0\n"
          ]
        }
      ]
    }
  ],
  "metadata": {
    "colab": {
      "name": "Welcome To Colab",
      "provenance": [],
      "include_colab_link": true
    },
    "kernelspec": {
      "display_name": "Python 3",
      "name": "python3"
    }
  },
  "nbformat": 4,
  "nbformat_minor": 0
}