{
  "cells": [
    {
      "cell_type": "markdown",
      "metadata": {
        "id": "view-in-github",
        "colab_type": "text"
      },
      "source": [
        "<a href=\"https://colab.research.google.com/github/StevvAgri/Steven/blob/main/Latihan%20P3_Steven%20Wanderson%20Hutabarat.ipynb\" target=\"_parent\"><img src=\"https://colab.research.google.com/assets/colab-badge.svg\" alt=\"Open In Colab\"/></a>"
      ]
    },
    {
      "cell_type": "markdown",
      "source": [
        "Fungsi Kuadrat"
      ],
      "metadata": {
        "id": "P851xrrTq--_"
      }
    },
    {
      "cell_type": "code",
      "source": [
        "def fungsi_kuadrat(x):\n",
        "  x**2 - 2*x + 5\n",
        "  return x**2 - 2*x + 5\n",
        "\n",
        "# Meminta input\n",
        "A = int(input(\"Masukkan A: \"))\n",
        "B = int(input(\"Masukkan B: \"))\n",
        "\n",
        "# Menampilkan nilai fungsi untuk rentang A hingga B\n",
        "print(\"Nilai fungsi kuadrat:\")\n",
        "for x in range(A, B + 1):\n",
        "  nilai_fungsi = fungsi_kuadrat(x)\n",
        "  print(f\"f({x}) = {nilai_fungsi}\")"
      ],
      "metadata": {
        "id": "kDOKZOkQrCkO",
        "outputId": "df8b1075-03d2-4b80-f6ab-434a2ca2472d",
        "colab": {
          "base_uri": "https://localhost:8080/"
        }
      },
      "execution_count": 76,
      "outputs": [
        {
          "output_type": "stream",
          "name": "stdout",
          "text": [
            "Masukkan A: 3\n",
            "Masukkan B: 6\n",
            "Nilai fungsi kuadrat:\n",
            "f(3) = 8\n",
            "f(4) = 13\n",
            "f(5) = 20\n",
            "f(6) = 29\n"
          ]
        }
      ]
    },
    {
      "cell_type": "markdown",
      "source": [
        "Validasi Sandi"
      ],
      "metadata": {
        "id": "gI0GpiyircKY"
      }
    },
    {
      "cell_type": "code",
      "source": [
        "def validasi_sandi(sandi):\n",
        "\n",
        "  if len(sandi) < 8:\n",
        "    return False, \"Sandi minimal harus 8 karakter.\"\n",
        "\n",
        "  ada_huruf_besar = False\n",
        "  ada_angka = False\n",
        "\n",
        "  for karakter in sandi:\n",
        "    if 'A' <= karakter <= 'Z':\n",
        "      ada_huruf_besar = True\n",
        "    if '0' <= karakter <= '9':\n",
        "      ada_angka = True\n",
        "\n",
        "  if not ada_huruf_besar:\n",
        "    return False, \"Sandi harus mengandung minimal satu huruf besar.\"\n",
        "  if not ada_angka:\n",
        "    return False, \"Sandi harus mengandung minimal satu angka.\"\n",
        "  return True, \"Sandi valid.\"\n",
        "\n",
        "\n",
        "sandi = input(\"Masukkan sandi: \")\n",
        "valid, pesan = validasi_sandi(sandi)\n",
        "\n",
        "if valid:\n",
        "  print(pesan)\n",
        "else:\n",
        "  print(pesan)"
      ],
      "metadata": {
        "id": "vRboSlz5ret3",
        "outputId": "06dab57c-58cb-496d-e90b-8d27993d54bb",
        "colab": {
          "base_uri": "https://localhost:8080/"
        }
      },
      "execution_count": 79,
      "outputs": [
        {
          "output_type": "stream",
          "name": "stdout",
          "text": [
            "Masukkan sandi: SubProgramA1\n",
            "Sandi valid.\n"
          ]
        }
      ]
    },
    {
      "cell_type": "markdown",
      "source": [
        "Determinan Matriks"
      ],
      "metadata": {
        "id": "c0eZq8y2sKil"
      }
    },
    {
      "cell_type": "code",
      "source": [
        "def determinant_2x2(matrix):\n",
        "  a = matrix[0][0]\n",
        "  b = matrix[0][1]\n",
        "  c = matrix[1][0]\n",
        "  d = matrix[1][1]\n",
        "  determinant = (a * d) - (b * c)\n",
        "  return determinant\n",
        "\n",
        "matrix = [[2, 3], [1, 4]]\n",
        "determinant = determinant_2x2(matrix)\n",
        "print(\"Determinan matriks:\", determinant)"
      ],
      "metadata": {
        "id": "wXWWIjiOsngO",
        "outputId": "a50cd435-43a8-43ce-c6b2-5c9ec8a1e203",
        "colab": {
          "base_uri": "https://localhost:8080/"
        }
      },
      "execution_count": 84,
      "outputs": [
        {
          "output_type": "stream",
          "name": "stdout",
          "text": [
            "Determinan matriks: 5\n"
          ]
        }
      ]
    }
  ],
  "metadata": {
    "colab": {
      "name": "Welcome To Colab",
      "provenance": [],
      "include_colab_link": true
    },
    "kernelspec": {
      "display_name": "Python 3",
      "name": "python3"
    }
  },
  "nbformat": 4,
  "nbformat_minor": 0
}