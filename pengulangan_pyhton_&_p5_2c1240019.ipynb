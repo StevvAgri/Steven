{
  "nbformat": 4,
  "nbformat_minor": 0,
  "metadata": {
    "colab": {
      "provenance": [],
      "name": "pengulangan-pyhton & p5_2c1240019.ipynb",
      "authorship_tag": "ABX9TyP+XaffTO84UOg2h23z6Eiw",
      "include_colab_link": true
    },
    "kernelspec": {
      "name": "python3",
      "display_name": "Python 3"
    },
    "language_info": {
      "name": "python"
    }
  },
  "cells": [
    {
      "cell_type": "markdown",
      "metadata": {
        "id": "view-in-github",
        "colab_type": "text"
      },
      "source": [
        "<a href=\"https://colab.research.google.com/github/StevvAgri/Steven/blob/main/pengulangan_pyhton_%26_p5_2c1240019.ipynb\" target=\"_parent\"><img src=\"https://colab.research.google.com/assets/colab-badge.svg\" alt=\"Open In Colab\"/></a>"
      ]
    },
    {
      "cell_type": "markdown",
      "source": [
        "Tugas 2"
      ],
      "metadata": {
        "id": "mXAtxejS7dYC"
      }
    },
    {
      "cell_type": "code",
      "source": [
        "# Program Sum Kelipatan 5\n",
        "# Menerima masukan N bilangan integer positif\n",
        "# dan menampilkan penjumlahan semua bilangan kelipatan 5 antara 1 s.d N\n",
        "\n",
        "# Kamus\n",
        "# N = int\n",
        "# i, sum = int\n",
        "\n",
        "# Algoritma\n",
        "N = int(input())\n",
        "i = 1\n",
        "sum = 0\n",
        "\n",
        "while i <= N:\n",
        "    if i % 5 == 0:\n",
        "        sum = sum + i\n",
        "    i = i + 1\n",
        "print(sum)"
      ],
      "metadata": {
        "colab": {
          "base_uri": "https://localhost:8080/"
        },
        "id": "EUY6iRAvr1yU",
        "outputId": "0bb11bba-a5f9-486e-ec9b-6ff7187d471d"
      },
      "execution_count": null,
      "outputs": [
        {
          "output_type": "stream",
          "name": "stdout",
          "text": [
            "20\n",
            "50\n"
          ]
        }
      ]
    },
    {
      "cell_type": "markdown",
      "source": [
        "Tugas 3"
      ],
      "metadata": {
        "id": "KV15Zn_c66cr"
      }
    },
    {
      "cell_type": "code",
      "source": [
        "# Versi 1\n",
        "N = 5  # Ganti N dengan jumlah awal anak ayam yang diinginkan\n",
        "\n",
        "for i in range(N, 0, -1):\n",
        "  print(f\"Anak ayam turunlah {i}\")\n",
        "  print(f\"Mati satu tinggallah {i-1}\")\n",
        "print(\"Mati satu tinggal induknya\")"
      ],
      "metadata": {
        "colab": {
          "base_uri": "https://localhost:8080/"
        },
        "id": "F1d2LoQQ6TmE",
        "outputId": "efe156aa-6a76-4396-af38-1fe89427b50f"
      },
      "execution_count": null,
      "outputs": [
        {
          "output_type": "stream",
          "name": "stdout",
          "text": [
            "Anak ayam turunlah 5\n",
            "Mati satu tinggallah 4\n",
            "Anak ayam turunlah 4\n",
            "Mati satu tinggallah 3\n",
            "Anak ayam turunlah 3\n",
            "Mati satu tinggallah 2\n",
            "Anak ayam turunlah 2\n",
            "Mati satu tinggallah 1\n",
            "Anak ayam turunlah 1\n",
            "Mati satu tinggallah 0\n",
            "Mati satu tinggal induknya\n"
          ]
        }
      ]
    },
    {
      "cell_type": "code",
      "source": [
        "# Versi 2\n",
        "\n",
        "N = 5  # Ganti N dengan jumlah awal anak ayam yang diinginkan\n",
        "\n",
        "i = N\n",
        "while i > 0:\n",
        "  print(f\"Anak ayam turunlah {i}\")\n",
        "  print(f\"Mati satu tinggallah {i-1}\")\n",
        "  i -= 1\n",
        "print(\"Mati satu tinggal induknya\")"
      ],
      "metadata": {
        "colab": {
          "base_uri": "https://localhost:8080/"
        },
        "id": "Yua_hXcK62bZ",
        "outputId": "5451752a-d8f2-4c58-b263-8ab51a9afa35"
      },
      "execution_count": null,
      "outputs": [
        {
          "output_type": "stream",
          "name": "stdout",
          "text": [
            "Anak ayam turunlah 5\n",
            "Mati satu tinggallah 4\n",
            "Anak ayam turunlah 4\n",
            "Mati satu tinggallah 3\n",
            "Anak ayam turunlah 3\n",
            "Mati satu tinggallah 2\n",
            "Anak ayam turunlah 2\n",
            "Mati satu tinggallah 1\n",
            "Anak ayam turunlah 1\n",
            "Mati satu tinggallah 0\n",
            "Mati satu tinggal induknya\n"
          ]
        }
      ]
    },
    {
      "cell_type": "code",
      "source": [
        "# Versi 3\n",
        "\n",
        "N = 5  # Ganti N dengan jumlah awal anak ayam yang diinginkan\n",
        "\n",
        "# Menggunakan for untuk bagian awal\n",
        "for i in range(N, 3, -1):\n",
        "  print(f\"Anak ayam turunlah {i}\")\n",
        "  print(f\"Mati satu tinggallah {i-1}\")\n",
        "\n",
        "# Menggunakan while untuk bagian akhir\n",
        "i = 2\n",
        "while i > 0:\n",
        "  print(f\"Anak ayam turunlah {i}\")\n",
        "  print(f\"Mati satu tinggallah {i-1}\")\n",
        "  i -= 1\n",
        "print(\"Mati satu tinggal induknya\")"
      ],
      "metadata": {
        "colab": {
          "base_uri": "https://localhost:8080/"
        },
        "id": "0fsB8nVC7EEV",
        "outputId": "b802e124-43f4-4536-b3fc-90d6086c8dea"
      },
      "execution_count": null,
      "outputs": [
        {
          "output_type": "stream",
          "name": "stdout",
          "text": [
            "Anak ayam turunlah 5\n",
            "Mati satu tinggallah 4\n",
            "Anak ayam turunlah 4\n",
            "Mati satu tinggallah 3\n",
            "Anak ayam turunlah 2\n",
            "Mati satu tinggallah 1\n",
            "Anak ayam turunlah 1\n",
            "Mati satu tinggallah 0\n",
            "Mati satu tinggal induknya\n"
          ]
        }
      ]
    },
    {
      "cell_type": "markdown",
      "source": [
        "P5"
      ],
      "metadata": {
        "id": "Wfmw6po18JME"
      }
    },
    {
      "cell_type": "code",
      "source": [
        "# SoalSatu\n",
        "Sisi = 12\n",
        "S = 12\n",
        "luas = Sisi * S\n",
        "print(luas)"
      ],
      "metadata": {
        "colab": {
          "base_uri": "https://localhost:8080/"
        },
        "id": "qLkrOPHJ8LVI",
        "outputId": "c67bc2af-8510-4579-8a62-9ebcf37c1509"
      },
      "execution_count": null,
      "outputs": [
        {
          "output_type": "stream",
          "name": "stdout",
          "text": [
            "144\n"
          ]
        }
      ]
    },
    {
      "cell_type": "code",
      "source": [
        "# soalDua\n",
        "\n",
        "namaDepan = \"Steven\"\n",
        "namaTengah = \"Wanderson\"\n",
        "namaBelakang = \"Hutabarat\"\n",
        "nama = namaDepan + \" \" + namaTengah + \" \" + namaBelakang\n",
        "NIM = \"2C1240019\"\n",
        "Fakultas = \"Sains Dan Teknologi\"\n",
        "Jurusan = \"Agribisnis\"\n",
        "kotaAsal = \"Jambi\"\n",
        "alamat = \"Jatinangor\"\n",
        "print(\"Biodata_Mahasiswa\\n\", nama, \"\\n\", NIM, \"\\n\", Fakultas, \"\\n\", Jurusan, \"\\n\", kotaAsal, \"\\n\", alamat)"
      ],
      "metadata": {
        "colab": {
          "base_uri": "https://localhost:8080/"
        },
        "id": "1hi9z4hn8cn2",
        "outputId": "bd3f6399-4d5b-464f-f1ca-dae79ca4485a"
      },
      "execution_count": null,
      "outputs": [
        {
          "output_type": "stream",
          "name": "stdout",
          "text": [
            "Biodata_Mahasiswa\n",
            " Steven Wanderson Hutabarat \n",
            " 2C1240019 \n",
            " Sains Dan Teknologi \n",
            " Agribisnis \n",
            " Jambi \n",
            " Jatinangor\n"
          ]
        }
      ]
    }
  ]
}