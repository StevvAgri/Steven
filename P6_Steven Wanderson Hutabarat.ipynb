{
  "nbformat": 4,
  "nbformat_minor": 0,
  "metadata": {
    "colab": {
      "provenance": [],
      "authorship_tag": "ABX9TyPUgo3TrJUIM2gXy00D7ktJ",
      "include_colab_link": true
    },
    "kernelspec": {
      "name": "python3",
      "display_name": "Python 3"
    },
    "language_info": {
      "name": "python"
    }
  },
  "cells": [
    {
      "cell_type": "markdown",
      "metadata": {
        "id": "view-in-github",
        "colab_type": "text"
      },
      "source": [
        "<a href=\"https://colab.research.google.com/github/StevvAgri/Steven/blob/main/P6_Steven%20Wanderson%20Hutabarat.ipynb\" target=\"_parent\"><img src=\"https://colab.research.google.com/assets/colab-badge.svg\" alt=\"Open In Colab\"/></a>"
      ]
    },
    {
      "cell_type": "code",
      "source": [
        "# Soal 1\n",
        "# Input sebuah bilangan. Tentukan apakah habis dibagi 3 atau tidak\n",
        "\n",
        "Bilangan = int(input(\"Masukkan Bilangan : \"))\n",
        "\n",
        "if Bilangan % 3 == 0:\n",
        "  print(\"Habis Dibagi 3\")\n",
        "else:\n",
        "  print(\"Tidak Habis Dibagi 3\")"
      ],
      "metadata": {
        "colab": {
          "base_uri": "https://localhost:8080/"
        },
        "id": "bQ_R27880mhM",
        "outputId": "dd6d1043-f2df-441d-88e8-7f2d013248ff"
      },
      "execution_count": null,
      "outputs": [
        {
          "output_type": "stream",
          "name": "stdout",
          "text": [
            "Masukkan Bilangan : 5\n",
            "Tidak Habis Dibagi 3\n"
          ]
        }
      ]
    },
    {
      "cell_type": "code",
      "source": [
        "# Soal 2\n",
        "\n",
        "Nama = input(\"Masukkan Nama Anda : \")\n",
        "Kelamin = input(\"Masukkan Jenis Kelamin Anda (pria/wanita) : \")\n",
        "\n",
        "if Kelamin == \"pria\" :\n",
        "  print(\"Selamat Bro\", Nama)\n",
        "else:\n",
        "  print(\"Selamat Sis\", Nama)"
      ],
      "metadata": {
        "colab": {
          "base_uri": "https://localhost:8080/"
        },
        "id": "cVyoYrhz1uWt",
        "outputId": "736416b6-aea7-4233-ed5b-e1fbe63730e4"
      },
      "execution_count": null,
      "outputs": [
        {
          "output_type": "stream",
          "name": "stdout",
          "text": [
            "Masukkan Nama Anda : umar\n",
            "Masukkan Jenis Kelamin Anda (pria/wanita) : pria\n",
            "Selamat Bro umar\n"
          ]
        }
      ]
    },
    {
      "cell_type": "code",
      "source": [
        "# Soal 3\n",
        "\n",
        "Makan = input(\"Apakah kita makan hari ini? \")\n",
        "if(Makan == \"ya\"):\n",
        "  print(\"kita makan\")\n",
        "elif(Makan == \"tidak\"):\n",
        "  print(\"kita minum\")\n",
        "else:\n",
        "  print(\"kita tidak makan\")"
      ],
      "metadata": {
        "colab": {
          "base_uri": "https://localhost:8080/"
        },
        "id": "jQgPwDHfOhNq",
        "outputId": "f6302ffc-50eb-405c-99ad-5c72f23b272a"
      },
      "execution_count": 1,
      "outputs": [
        {
          "output_type": "stream",
          "name": "stdout",
          "text": [
            "Apakah kita makan hari ini? tidak\n",
            "kita minum\n"
          ]
        }
      ]
    }
  ]
}