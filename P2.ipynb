{
  "nbformat": 4,
  "nbformat_minor": 0,
  "metadata": {
    "colab": {
      "provenance": [],
      "authorship_tag": "ABX9TyNC4daT8WNNsMhTtF5BG17d",
      "include_colab_link": true
    },
    "kernelspec": {
      "name": "python3",
      "display_name": "Python 3"
    },
    "language_info": {
      "name": "python"
    }
  },
  "cells": [
    {
      "cell_type": "markdown",
      "metadata": {
        "id": "view-in-github",
        "colab_type": "text"
      },
      "source": [
        "<a href=\"https://colab.research.google.com/github/StevvAgri/Steven/blob/main/P2.ipynb\" target=\"_parent\"><img src=\"https://colab.research.google.com/assets/colab-badge.svg\" alt=\"Open In Colab\"/></a>"
      ]
    },
    {
      "cell_type": "markdown",
      "source": [
        "Array"
      ],
      "metadata": {
        "id": "ctF_UP_hn4qH"
      }
    },
    {
      "cell_type": "code",
      "source": [
        "# Deklarasi Array\n",
        "\n",
        "x = [0 for i in range(n)]\n",
        "x = [\"*\"for i in range(100)]"
      ],
      "metadata": {
        "id": "2LNSlvBKoGCY"
      },
      "execution_count": 2,
      "outputs": []
    },
    {
      "cell_type": "code",
      "execution_count": 5,
      "metadata": {
        "colab": {
          "base_uri": "https://localhost:8080/"
        },
        "id": "ayML9jBGhl15",
        "outputId": "20d8c069-6eb7-4573-fed1-6d2b2e234f09"
      },
      "outputs": [
        {
          "output_type": "stream",
          "name": "stdout",
          "text": [
            "0\n",
            "1\n",
            "2\n",
            "3\n",
            "4\n",
            "5\n",
            "6\n",
            "7\n",
            "8\n",
            "9\n"
          ]
        }
      ],
      "source": [
        "for i in range (10):\n",
        "  print (i)"
      ]
    },
    {
      "cell_type": "code",
      "source": [
        "tabel = [0 for i in range(5)]\n",
        "\n",
        "tabel[0] = int(input(\" Masukkan nilai ke -0: \"))\n",
        "tabel[1] = int(input(\" Masukkan nilai ke -1: \"))\n",
        "tabel[2] = int(input(\" Masukkan nilai ke -2: \"))\n",
        "tabel[3] = int(input(\" Masukkan nilai ke -3: \"))\n",
        "tabel[4] = int(input(\" Masukkan nilai ke -4: \"))"
      ],
      "metadata": {
        "colab": {
          "base_uri": "https://localhost:8080/"
        },
        "id": "Fnc1uSEhoao8",
        "outputId": "33aa996c-dfa2-4e68-98d4-81652c2e757f"
      },
      "execution_count": 7,
      "outputs": [
        {
          "name": "stdout",
          "output_type": "stream",
          "text": [
            " Masukkan nilai ke -0: 2\n",
            " Masukkan nilai ke -1: 1\n",
            " Masukkan nilai ke -2: 5\n",
            " Masukkan nilai ke -3: 2\n",
            " Masukkan nilai ke -4: 3\n"
          ]
        }
      ]
    },
    {
      "cell_type": "code",
      "source": [
        "tabel = [0 for i in range(5)]\n",
        "\n",
        "for i in range(5):\n",
        "  tabel[i] = int(input(' Masukkan nilai ke-' + str(i) + ': '))"
      ],
      "metadata": {
        "colab": {
          "base_uri": "https://localhost:8080/"
        },
        "id": "URhrL7LZjXgm",
        "outputId": "8caaa10b-c3f1-4b39-ca67-b219b64dcbed"
      },
      "execution_count": 6,
      "outputs": [
        {
          "name": "stdout",
          "output_type": "stream",
          "text": [
            " Masukkan nilai ke-0: 1\n",
            " Masukkan nilai ke-1: 2\n",
            " Masukkan nilai ke-2: 1\n",
            " Masukkan nilai ke-3: 6\n",
            " Masukkan nilai ke-4: 3\n"
          ]
        }
      ]
    },
    {
      "cell_type": "markdown",
      "source": [
        "Matriks"
      ],
      "metadata": {
        "id": "InPIaOjml3ha"
      }
    },
    {
      "cell_type": "code",
      "source": [
        "A = [[0 for j in range(20)] for i in range(10)]"
      ],
      "metadata": {
        "id": "5jhCreUglwpx"
      },
      "execution_count": 11,
      "outputs": []
    },
    {
      "cell_type": "code",
      "source": [
        "n = int(input())\n",
        "m = int(input())\n",
        "A = [[0 for j in range(m)] for i in range(n)]\n",
        "for i in range(n):\n",
        "  for j in range(m):\n",
        "    A[i][j] = int(input(\" masukkan elemen baris \" + str(i + 1) + \" kolom \" + str(j + 1) + \": \"))\n",
        "for i in range(n):\n",
        "  for j in range(m):\n",
        "    print(A[i][j], end=\" \")\n",
        "  print(\"\")"
      ],
      "metadata": {
        "colab": {
          "base_uri": "https://localhost:8080/"
        },
        "id": "dbrmsVP7l2jj",
        "outputId": "9ef5a9c7-772b-4deb-8d8b-1d5c0986646e"
      },
      "execution_count": 14,
      "outputs": [
        {
          "output_type": "stream",
          "name": "stdout",
          "text": [
            "2\n",
            "2\n",
            " masukkan elemen baris 1 kolom 1: 10\n",
            " masukkan elemen baris 1 kolom 2: 23\n",
            " masukkan elemen baris 2 kolom 1: 12\n",
            " masukkan elemen baris 2 kolom 2: 5\n",
            "10 23 \n",
            "12 5 \n"
          ]
        }
      ]
    },
    {
      "cell_type": "code",
      "source": [
        "n = int(input(\"Masukkan A: \"))\n",
        "m = int(input(\"Masukkan B: \"))\n",
        "l = int(input(\"Masukkan C: 16\"))\n",
        "A = [[0 for j in range(m)] for i in range(n)]\n",
        "B = [[0 for j in range(l)] for i in range(m)]\n",
        "C = [[0 for j in range(l)] for i in range(n)]\n",
        "\n",
        "for i in range(n):\n",
        "  for j in range(m):\n",
        "    A[i][j] = int(input(\" masukkan elemen A baris \" + str(i + 1) + \" kolom \" + str(j + 1) + \": \"))\n",
        "for i in range(m):\n",
        "  for j in range(l):\n",
        "    B[i][j] = int(input(\" masukkan elemen B baris \" + str(i + 1) + \" kolom \" + str(j + 1) + \": \"))\n",
        "for i in range(n):\n",
        "  for j in range(l):\n",
        "    C[i][j] = 0\n",
        "    for k in range(m):\n",
        "      C[i][j] += A[i][k] * B[k][j]\n",
        "    print(C[i][j], end=\" \")\n",
        "  print(\"\")"
      ],
      "metadata": {
        "colab": {
          "base_uri": "https://localhost:8080/"
        },
        "id": "z0lNcbd-mob9",
        "outputId": "cd8660bb-af1c-4305-ae24-32ee3019c96d"
      },
      "execution_count": 2,
      "outputs": [
        {
          "output_type": "stream",
          "name": "stdout",
          "text": [
            "Masukkan A: 2\n",
            "Masukkan B: 3\n",
            "Masukkan C: 2\n",
            " masukkan elemen A baris 1 kolom 1: 12\n",
            " masukkan elemen A baris 1 kolom 2: 15\n",
            " masukkan elemen A baris 1 kolom 3: 13\n",
            " masukkan elemen A baris 2 kolom 1: 11\n",
            " masukkan elemen A baris 2 kolom 2: 10\n",
            " masukkan elemen A baris 2 kolom 3: 9\n",
            " masukkan elemen B baris 1 kolom 1: 16\n",
            " masukkan elemen B baris 1 kolom 2: 12\n",
            " masukkan elemen B baris 2 kolom 1: 12\n",
            " masukkan elemen B baris 2 kolom 2: 5\n",
            " masukkan elemen B baris 3 kolom 1: 6\n",
            " masukkan elemen B baris 3 kolom 2: 9\n",
            "450 336 \n",
            "350 263 \n"
          ]
        }
      ]
    }
  ]
}