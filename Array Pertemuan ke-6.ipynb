{
  "cells": [
    {
      "cell_type": "markdown",
      "metadata": {
        "id": "view-in-github",
        "colab_type": "text"
      },
      "source": [
        "<a href=\"https://colab.research.google.com/github/StevvAgri/Steven/blob/main/Array%20Pertemuan%20ke-6.ipynb\" target=\"_parent\"><img src=\"https://colab.research.google.com/assets/colab-badge.svg\" alt=\"Open In Colab\"/></a>"
      ]
    },
    {
      "cell_type": "code",
      "source": [
        "buah = ['apel', 'pisang', 'lemon']\n",
        "print(buah)\n",
        "\n",
        "nilai_ujian = [70, 72, 60, 82, 90, 95]\n",
        "print(nilai_ujian)"
      ],
      "metadata": {
        "id": "TcMJk-_GzmMi",
        "outputId": "8ab3b398-271f-4c98-d9a8-3b6d9fb3bdb5",
        "colab": {
          "base_uri": "https://localhost:8080/"
        }
      },
      "execution_count": 19,
      "outputs": [
        {
          "output_type": "stream",
          "name": "stdout",
          "text": [
            "['apel', 'pisang', 'lemon']\n",
            "[70, 72, 60, 82, 90, 95]\n"
          ]
        }
      ]
    },
    {
      "cell_type": "code",
      "source": [
        "buah = ['apel', 'pisang', 'lemon']\n",
        "print(buah[0])\n",
        "print(buah[1])\n",
        "print(buah[2])\n",
        "\n",
        "nilai_ujian = [70, 72, 60, 82, 90, 95]\n",
        "print(nilai_ujian[0])\n",
        "print(nilai_ujian[1])\n",
        "print(nilai_ujian[2])\n",
        "print(nilai_ujian[3])\n",
        "print(nilai_ujian[4])\n",
        "print(nilai_ujian[5])"
      ],
      "metadata": {
        "id": "-w6Hk9fm1cYS",
        "outputId": "6a0da387-edcc-495b-a24a-7189677a4edf",
        "colab": {
          "base_uri": "https://localhost:8080/"
        }
      },
      "execution_count": 24,
      "outputs": [
        {
          "output_type": "stream",
          "name": "stdout",
          "text": [
            "apel\n",
            "pisang\n",
            "lemon\n",
            "70\n",
            "72\n",
            "60\n",
            "82\n",
            "90\n",
            "95\n"
          ]
        }
      ]
    },
    {
      "cell_type": "code",
      "source": [
        "buah = ['apel', 'pisang', 'lemon']\n",
        "print(buah[2])\n",
        "\n",
        "angka = [1, 5, 7, 9, 3]\n",
        "print(angka[3])\n",
        "print(angka[4])"
      ],
      "metadata": {
        "id": "IcKnqAPL301R",
        "outputId": "e364efd6-01cb-496d-90ce-b1529670ec7c",
        "colab": {
          "base_uri": "https://localhost:8080/"
        }
      },
      "execution_count": 25,
      "outputs": [
        {
          "output_type": "stream",
          "name": "stdout",
          "text": [
            "lemon\n",
            "9\n",
            "3\n"
          ]
        }
      ]
    },
    {
      "cell_type": "code",
      "source": [
        "buah = ['apel', 'pisang', 'lemon']\n",
        "buah[1] = 'buah naga'\n",
        "\n",
        "print(buah)\n",
        "\n",
        "angka = [1, 5, 7, 9, 3]\n",
        "angka[0] = 25\n",
        "angka[2] = 100\n",
        "\n",
        "print(angka)"
      ],
      "metadata": {
        "id": "oljEexLz5m8A",
        "outputId": "60841118-0a65-4a88-f8fe-6f876cd359db",
        "colab": {
          "base_uri": "https://localhost:8080/"
        }
      },
      "execution_count": 26,
      "outputs": [
        {
          "output_type": "stream",
          "name": "stdout",
          "text": [
            "['apel', 'buah naga', 'lemon']\n",
            "[25, 5, 100, 9, 3]\n"
          ]
        }
      ]
    },
    {
      "cell_type": "code",
      "source": [
        "buah = ['apel', 'pisang', 'lemon']\n",
        "buah.append('sirsak')\n",
        "\n",
        "print(buah)\n",
        "\n",
        "angka = [1, 5, 7, 9, 3]\n",
        "angka.append(75)\n",
        "\n",
        "print(angka)"
      ],
      "metadata": {
        "id": "mmZUvEmj7PYI",
        "outputId": "1f1d6580-2e1e-4047-d49b-6a8f8f1914f5",
        "colab": {
          "base_uri": "https://localhost:8080/"
        }
      },
      "execution_count": 27,
      "outputs": [
        {
          "output_type": "stream",
          "name": "stdout",
          "text": [
            "['apel', 'pisang', 'lemon', 'sirsak']\n",
            "[1, 5, 7, 9, 3, 75]\n"
          ]
        }
      ]
    },
    {
      "cell_type": "code",
      "source": [
        "buah = ['apel', 'pisang', 'lemon']\n",
        "buah.insert(2, 'alpukat')\n",
        "\n",
        "print(buah)\n",
        "\n",
        "angka = [1, 5, 7, 9, 3]\n",
        "angka.insert(1, 125)\n",
        "\n",
        "print(angka)"
      ],
      "metadata": {
        "id": "-K0XVFqY8o9w",
        "outputId": "f8126f3c-f28b-4c7c-816d-e7dfebea9756",
        "colab": {
          "base_uri": "https://localhost:8080/"
        }
      },
      "execution_count": 28,
      "outputs": [
        {
          "output_type": "stream",
          "name": "stdout",
          "text": [
            "['apel', 'pisang', 'alpukat', 'lemon']\n",
            "[1, 125, 5, 7, 9, 3]\n"
          ]
        }
      ]
    }
  ],
  "metadata": {
    "colab": {
      "name": "Welcome To Colab",
      "provenance": [],
      "include_colab_link": true
    },
    "kernelspec": {
      "display_name": "Python 3",
      "name": "python3"
    }
  },
  "nbformat": 4,
  "nbformat_minor": 0
}