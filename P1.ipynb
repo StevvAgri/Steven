{
  "nbformat": 4,
  "nbformat_minor": 0,
  "metadata": {
    "colab": {
      "provenance": [],
      "authorship_tag": "ABX9TyNLDzz0kBMt51qVZQNzIYoT",
      "include_colab_link": true
    },
    "kernelspec": {
      "name": "python3",
      "display_name": "Python 3"
    },
    "language_info": {
      "name": "python"
    }
  },
  "cells": [
    {
      "cell_type": "markdown",
      "metadata": {
        "id": "view-in-github",
        "colab_type": "text"
      },
      "source": [
        "<a href=\"https://colab.research.google.com/github/StevvAgri/Steven/blob/main/P1.ipynb\" target=\"_parent\"><img src=\"https://colab.research.google.com/assets/colab-badge.svg\" alt=\"Open In Colab\"/></a>"
      ]
    },
    {
      "cell_type": "code",
      "execution_count": 3,
      "metadata": {
        "colab": {
          "base_uri": "https://localhost:8080/"
        },
        "id": "qaIdjXqQO8qB",
        "outputId": "6c60ab81-560d-4141-9a69-193d5b659c75"
      },
      "outputs": [
        {
          "output_type": "stream",
          "name": "stdout",
          "text": [
            "Halo, siapa namamu?\n",
            "masukkan nama anda: Stevv\n",
            "Dikota apa kamu sekarang?\n",
            "masukkan nama kota anda: Jatinangor\n",
            "Senang berteman dengan mu Stevv, di kota Jatinangor\n"
          ]
        }
      ],
      "source": [
        "print(\"Halo, siapa namamu?\")\n",
        "nama = input(\"masukkan nama anda: \")\n",
        "\n",
        "print(\"Dikota apa kamu sekarang?\")\n",
        "kota = input(\"masukkan nama kota anda: \")\n",
        "\n",
        "print(f\"Senang berteman dengan mu {nama}, di kota {kota}\")"
      ]
    }
  ]
}