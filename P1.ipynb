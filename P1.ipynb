{
  "nbformat": 4,
  "nbformat_minor": 0,
  "metadata": {
    "colab": {
      "provenance": [],
      "authorship_tag": "ABX9TyMwmyZieJBKOH0QnLyoHUuQ",
      "include_colab_link": true
    },
    "kernelspec": {
      "name": "python3",
      "display_name": "Python 3"
    },
    "language_info": {
      "name": "python"
    }
  },
  "cells": [
    {
      "cell_type": "markdown",
      "metadata": {
        "id": "view-in-github",
        "colab_type": "text"
      },
      "source": [
        "<a href=\"https://colab.research.google.com/github/StevvAgri/Steven/blob/main/P1.ipynb\" target=\"_parent\"><img src=\"https://colab.research.google.com/assets/colab-badge.svg\" alt=\"Open In Colab\"/></a>"
      ]
    },
    {
      "cell_type": "markdown",
      "source": [
        "Soal 1"
      ],
      "metadata": {
        "id": "gl4-4aO6S_4T"
      }
    },
    {
      "cell_type": "code",
      "execution_count": 3,
      "metadata": {
        "colab": {
          "base_uri": "https://localhost:8080/"
        },
        "id": "qaIdjXqQO8qB",
        "outputId": "6c60ab81-560d-4141-9a69-193d5b659c75"
      },
      "outputs": [
        {
          "output_type": "stream",
          "name": "stdout",
          "text": [
            "Halo, siapa namamu?\n",
            "masukkan nama anda: Stevv\n",
            "Dikota apa kamu sekarang?\n",
            "masukkan nama kota anda: Jatinangor\n",
            "Senang berteman dengan mu Stevv, di kota Jatinangor\n"
          ]
        }
      ],
      "source": [
        "print(\"Halo, siapa namamu?\")\n",
        "nama = input(\"masukkan nama anda: \")\n",
        "\n",
        "print(\"Dikota apa kamu sekarang?\")\n",
        "kota = input(\"masukkan nama kota anda: \")\n",
        "\n",
        "print(f\"Senang berteman dengan mu {nama}, di kota {kota}\")"
      ]
    },
    {
      "cell_type": "markdown",
      "source": [
        "Soal 2"
      ],
      "metadata": {
        "id": "RpDLGvgES-wC"
      }
    },
    {
      "cell_type": "code",
      "source": [
        "kelahiran = input(\"masukkan angka kelahiran: \")\n",
        "imigrasi_masuk = input(\"masukkan angka imigrasi masuk: \")\n",
        "kematian = input(\"masukkan angka kematian: \")\n",
        "imigrasi_keluar = input(\"masukkan angka imigrasi keluar: \")\n",
        "\n",
        "jumlah_penduduk= int(kelahiran) + int(imigrasi_masuk) - int(kematian) - int(imigrasi_keluar)\n",
        "\n",
        "print(f\"jumlah penduduk pada tahun ini adalah {jumlah_penduduk} jiwa\")"
      ],
      "metadata": {
        "colab": {
          "base_uri": "https://localhost:8080/"
        },
        "id": "sfcVmGpvQ8sj",
        "outputId": "cd87a7d6-2971-4fd8-c25a-8a583f19f8ea"
      },
      "execution_count": 7,
      "outputs": [
        {
          "output_type": "stream",
          "name": "stdout",
          "text": [
            "masukkan angka kelahiran: 20\n",
            "masukkan angka imigrasi masuk: 250\n",
            "masukkan angka kematian: 10\n",
            "masukkan angka imigrasi keluar: 50\n",
            "jumlah penduduk pada tahun ini adalah 210 jiwa\n"
          ]
        }
      ]
    },
    {
      "cell_type": "markdown",
      "source": [
        "Soal 3"
      ],
      "metadata": {
        "id": "J73yeYWKTCHS"
      }
    },
    {
      "cell_type": "code",
      "source": [
        "jumlah_barang = int(input(\"masukkan jumlah barang yang dibeli: \"))\n",
        "total_harga = 0\n",
        "\n",
        "for i in range(jumlah_barang):\n",
        "    harga_barang = int(input(f\"masukkan harga barang ke-{i+1}: \"))\n",
        "    total_harga += harga_barang\n",
        "\n",
        "if total_harga > 100000:\n",
        "    diskon = total_harga * 0.1\n",
        "    total_harga_akhir = total_harga - diskon\n",
        "    print(f\"anda mendapatkan diskon 10% sebesar Rp{diskon:.2f}\")\n",
        "else:\n",
        "  total_harga_akhir = total_harga\n",
        "\n",
        "print(f\"total harga akhir: Rp{total_harga_akhir:.2f}\")"
      ],
      "metadata": {
        "colab": {
          "base_uri": "https://localhost:8080/"
        },
        "id": "Tyx5Tg_FS9fC",
        "outputId": "4982f1a6-43e6-4c30-a1b5-6026d8d9fab8"
      },
      "execution_count": 11,
      "outputs": [
        {
          "output_type": "stream",
          "name": "stdout",
          "text": [
            "masukkan jumlah barang yang dibeli: 1\n",
            "masukkan harga barang ke-1: 150000\n",
            "anda mendapatkan diskon 10% sebesar Rp15000.00\n",
            "total harga akhir: Rp135000.00\n"
          ]
        }
      ]
    }
  ]
}