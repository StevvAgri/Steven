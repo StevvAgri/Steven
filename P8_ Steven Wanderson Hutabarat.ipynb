{
  "nbformat": 4,
  "nbformat_minor": 0,
  "metadata": {
    "colab": {
      "provenance": [],
      "authorship_tag": "ABX9TyMCkPaCu3LBiwOALFyYfyiD",
      "include_colab_link": true
    },
    "kernelspec": {
      "name": "python3",
      "display_name": "Python 3"
    },
    "language_info": {
      "name": "python"
    }
  },
  "cells": [
    {
      "cell_type": "markdown",
      "metadata": {
        "id": "view-in-github",
        "colab_type": "text"
      },
      "source": [
        "<a href=\"https://colab.research.google.com/github/StevvAgri/Steven/blob/main/P8_%20Steven%20Wanderson%20Hutabarat.ipynb\" target=\"_parent\"><img src=\"https://colab.research.google.com/assets/colab-badge.svg\" alt=\"Open In Colab\"/></a>"
      ]
    },
    {
      "cell_type": "code",
      "source": [
        "a = [2, 3, 2, 4, 8, 7]\n",
        "\n",
        "print(a[5])"
      ],
      "metadata": {
        "colab": {
          "base_uri": "https://localhost:8080/"
        },
        "id": "RFNww2kzy1gB",
        "outputId": "e96a882a-731c-4484-a116-e03c3f8d86a7"
      },
      "execution_count": 13,
      "outputs": [
        {
          "output_type": "stream",
          "name": "stdout",
          "text": [
            "7\n"
          ]
        }
      ]
    },
    {
      "cell_type": "code",
      "source": [
        "a = [2, 3, 2, 4, 8, 7]\n",
        "b = a[2:5]\n",
        "\n",
        "print(b)"
      ],
      "metadata": {
        "colab": {
          "base_uri": "https://localhost:8080/"
        },
        "id": "emeRtKfs0hch",
        "outputId": "057f6cb2-215f-4363-a399-e2653c91cd87"
      },
      "execution_count": 17,
      "outputs": [
        {
          "output_type": "stream",
          "name": "stdout",
          "text": [
            "[2, 4, 8]\n"
          ]
        }
      ]
    },
    {
      "cell_type": "code",
      "source": [
        "a = [2, 3, 2, 4, 8, 7, 8]\n",
        "\n",
        "for elemen in a:\n",
        "  print(elemen)"
      ],
      "metadata": {
        "colab": {
          "base_uri": "https://localhost:8080/"
        },
        "id": "hx1uIhAb2btz",
        "outputId": "7a608d21-724a-4a08-8692-43364a9cf6fd"
      },
      "execution_count": 27,
      "outputs": [
        {
          "output_type": "stream",
          "name": "stdout",
          "text": [
            "2\n",
            "3\n",
            "2\n",
            "4\n",
            "8\n",
            "7\n",
            "8\n"
          ]
        }
      ]
    },
    {
      "cell_type": "code",
      "source": [
        "a = [2, 3, 2, 4, 8, 7]\n",
        "for i in range(len(a)):\n",
        "  print(a[i])"
      ],
      "metadata": {
        "colab": {
          "base_uri": "https://localhost:8080/"
        },
        "id": "Y4_nrcit4aQx",
        "outputId": "651a911a-7338-42cf-de52-03e04ecc4f77"
      },
      "execution_count": 25,
      "outputs": [
        {
          "output_type": "stream",
          "name": "stdout",
          "text": [
            "2\n",
            "3\n",
            "2\n",
            "4\n",
            "8\n",
            "7\n"
          ]
        }
      ]
    },
    {
      "cell_type": "code",
      "source": [
        "b = [8, 9, 7, 8, 6, 4, 3, 6]\n",
        "print(len(b))"
      ],
      "metadata": {
        "colab": {
          "base_uri": "https://localhost:8080/"
        },
        "id": "V_CkLyq44gXn",
        "outputId": "99cf7009-9880-4722-aa04-73d490d2336d"
      },
      "execution_count": 26,
      "outputs": [
        {
          "output_type": "stream",
          "name": "stdout",
          "text": [
            "8\n"
          ]
        }
      ]
    },
    {
      "cell_type": "code",
      "source": [
        "b = [8, 9, 7, 8, 6, 4, 3, 6]\n",
        "b[3] = 5\n",
        "\n",
        "print(b)"
      ],
      "metadata": {
        "colab": {
          "base_uri": "https://localhost:8080/"
        },
        "id": "-J9uZCjc5PGQ",
        "outputId": "2c7640c6-51a0-4efc-d91f-9c618d922331"
      },
      "execution_count": 28,
      "outputs": [
        {
          "output_type": "stream",
          "name": "stdout",
          "text": [
            "[8, 9, 7, 5, 6, 4, 3, 6]\n"
          ]
        }
      ]
    },
    {
      "cell_type": "code",
      "source": [
        "b = [8, 9, 7, 8, 6, 4, 3, 6]\n",
        "print(type(b))"
      ],
      "metadata": {
        "colab": {
          "base_uri": "https://localhost:8080/"
        },
        "id": "P7-upf0H6CG4",
        "outputId": "8f76f205-6d46-4f36-aa2c-f8bf37e4d376"
      },
      "execution_count": 29,
      "outputs": [
        {
          "output_type": "stream",
          "name": "stdout",
          "text": [
            "<class 'list'>\n"
          ]
        }
      ]
    },
    {
      "cell_type": "code",
      "source": [
        "import numpy as np\n",
        "\n",
        "c = np.array([2, 4, 6, 8])\n",
        "\n",
        "print(type(c))"
      ],
      "metadata": {
        "colab": {
          "base_uri": "https://localhost:8080/"
        },
        "id": "QxccyhVC6Jky",
        "outputId": "a5b6c214-83c7-4fe0-edd2-33f5223f797e"
      },
      "execution_count": 32,
      "outputs": [
        {
          "output_type": "stream",
          "name": "stdout",
          "text": [
            "<class 'numpy.ndarray'>\n"
          ]
        }
      ]
    },
    {
      "cell_type": "code",
      "source": [
        "a = [2, 3, 2, 4, 7, 9, 6]\n",
        "terbesar = a[0]\n",
        "\n",
        "for i in range(1, len(a)):\n",
        "  if a[i] < terbesar:\n",
        "    terbesar = a[i]\n",
        "\n",
        "print(terbesar)"
      ],
      "metadata": {
        "colab": {
          "base_uri": "https://localhost:8080/"
        },
        "id": "uN0yYw3366By",
        "outputId": "eaab861f-b49a-4a7d-f5df-895267866b90"
      },
      "execution_count": 36,
      "outputs": [
        {
          "output_type": "stream",
          "name": "stdout",
          "text": [
            "2\n"
          ]
        }
      ]
    },
    {
      "cell_type": "code",
      "source": [
        "a = [2, 3, 2, 4, 7, 9, 6]\n",
        "print(min(a))"
      ],
      "metadata": {
        "colab": {
          "base_uri": "https://localhost:8080/"
        },
        "id": "QN0C6a4m8Fwg",
        "outputId": "f5957b48-4c92-4d4a-cbd8-d03ce82a2a11"
      },
      "execution_count": 37,
      "outputs": [
        {
          "output_type": "stream",
          "name": "stdout",
          "text": [
            "2\n"
          ]
        }
      ]
    },
    {
      "cell_type": "code",
      "source": [
        "p = [2, 5, 8, 1, 4]\n",
        "\n",
        "# Hasil penjumlahan seluruh elemen\n",
        "hasil_penjumlahan = sum(p)\n",
        "\n",
        "# Jumlah seluruh elemen\n",
        "jumlah = len(p)\n",
        "\n",
        "# Nilai rata-rata p\n",
        "rata_rata = hasil_penjumlahan / jumlah\n",
        "\n",
        "print(rata_rata)\n",
        "\n"
      ],
      "metadata": {
        "colab": {
          "base_uri": "https://localhost:8080/"
        },
        "id": "5zfC5K0U-U_L",
        "outputId": "449b5e8c-c489-43a4-ad08-faa8b282dd3e"
      },
      "execution_count": 39,
      "outputs": [
        {
          "output_type": "stream",
          "name": "stdout",
          "text": [
            "4.0\n"
          ]
        }
      ]
    },
    {
      "cell_type": "code",
      "source": [
        "p = [2, 5, 8, 1, 4]\n",
        "\n",
        "# Nilai Maksimum\n",
        "terbesar = p[0]\n",
        "\n",
        "for i in range(1, len(p)):\n",
        "  if p[i] > terbesar:\n",
        "    terbesar = p[i]\n",
        "\n",
        "print(\"nilai terbesar:\", terbesar)\n",
        "\n",
        "# Nilai Minimum\n",
        "terkecil = p[0]\n",
        "\n",
        "for i in range(1, len(p)):\n",
        "  if p[i] < terkecil:\n",
        "    terkecil = p[i]\n",
        "\n",
        "print(\"nilai terkecil:\", terkecil)\n",
        "\n",
        "# Hasil Penjumlahan\n",
        "total = 0\n",
        "\n",
        "for elemen in p:\n",
        "  total += elemen\n",
        "print(\"total penjumlahan:\", total)\n",
        "\n",
        "# Jumlah seluruh elemen\n",
        "jumlah = len(p)\n",
        "\n",
        "print(\"jumlah elemen:\", jumlah)\n",
        "\n",
        "# Rata-rata p\n",
        "rata = total / jumlah\n",
        "print(\"nilai rata rata:\", rata)"
      ],
      "metadata": {
        "colab": {
          "base_uri": "https://localhost:8080/"
        },
        "id": "B_yfFb-6Az_o",
        "outputId": "9709b512-33f4-4bca-cca8-e2a31efb7b7f"
      },
      "execution_count": 48,
      "outputs": [
        {
          "output_type": "stream",
          "name": "stdout",
          "text": [
            "nilai terbesar: 8\n",
            "nilai terkecil: 1\n",
            "total penjumlahan: 20\n",
            "jumlah elemen: 5\n",
            "nilai rata rata: 4.0\n"
          ]
        }
      ]
    }
  ]
}