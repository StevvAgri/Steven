{
  "cells": [
    {
      "cell_type": "markdown",
      "metadata": {
        "id": "view-in-github",
        "colab_type": "text"
      },
      "source": [
        "<a href=\"https://colab.research.google.com/github/StevvAgri/Steven/blob/main/SubProgram.ipynb\" target=\"_parent\"><img src=\"https://colab.research.google.com/assets/colab-badge.svg\" alt=\"Open In Colab\"/></a>"
      ]
    },
    {
      "cell_type": "code",
      "source": [
        "def sapa():\n",
        "  print(\"hello world!\")\n",
        "\n",
        "# Memanggil fungsi\n",
        "sapa()"
      ],
      "metadata": {
        "id": "oLREyFKM00xy",
        "outputId": "967e6d6f-f203-420e-f984-efb4138d1991",
        "colab": {
          "base_uri": "https://localhost:8080/"
        }
      },
      "execution_count": 1,
      "outputs": [
        {
          "output_type": "stream",
          "name": "stdout",
          "text": [
            "hello world!\n"
          ]
        }
      ]
    },
    {
      "cell_type": "code",
      "source": [
        "def hello():\n",
        "  print(\"Selamat belajar pyhton!\")\n",
        "\n",
        "# Memanggil fungsi\n",
        "hello()"
      ],
      "metadata": {
        "id": "MmnWCGxE1xx5",
        "outputId": "f8cd647d-8750-4ca5-b088-4e83a6739cfb",
        "colab": {
          "base_uri": "https://localhost:8080/"
        }
      },
      "execution_count": 4,
      "outputs": [
        {
          "output_type": "stream",
          "name": "stdout",
          "text": [
            "Selamat belajar pyhton!\n"
          ]
        }
      ]
    },
    {
      "cell_type": "code",
      "source": [
        "def sapa_nama(nama):\n",
        "  print(\"Hallo,\", nama, \"Selamat belajar di kelas pyhton!\")\n",
        "\n",
        "# Memanggil fungsi\n",
        "sapa_nama(\"Stevv\")"
      ],
      "metadata": {
        "id": "EXpGJ8m74IEJ",
        "outputId": "b1de368f-e6c5-4055-a9e9-9b18fba1b6f8",
        "colab": {
          "base_uri": "https://localhost:8080/"
        }
      },
      "execution_count": 13,
      "outputs": [
        {
          "output_type": "stream",
          "name": "stdout",
          "text": [
            "Hallo, Stevv Selamat belajar di kelas pyhton!\n"
          ]
        }
      ]
    },
    {
      "cell_type": "code",
      "source": [
        "def sapa(nama):\n",
        "  print(\"Hallo,\", nama, \"Apa kabar hari ini?\")\n",
        "\n",
        "# Memanggil fungsi\n",
        "sapa(\"Stevv\")"
      ],
      "metadata": {
        "id": "mi-IeNRt3GWy",
        "outputId": "6403ec7a-9275-49d7-db62-c875976e5cb7",
        "colab": {
          "base_uri": "https://localhost:8080/"
        }
      },
      "execution_count": 8,
      "outputs": [
        {
          "output_type": "stream",
          "name": "stdout",
          "text": [
            "Hallo, Stevv Apa kabar hari ini?\n"
          ]
        }
      ]
    },
    {
      "cell_type": "code",
      "source": [
        "def tambah(a,b):\n",
        "  hasil = a + b\n",
        "  return hasil\n",
        "\n",
        "# Memanggil fungsi dan menampung hasilnya\n",
        "hasil_penjumlahan = tambah(5, 3)\n",
        "print(\"Hasil penjumlahan 5 dan 3 adalah\", hasil_penjumlahan)"
      ],
      "metadata": {
        "id": "8J25CEnj7kKJ",
        "outputId": "27b642ea-1d8b-4de5-9622-456c201046e5",
        "colab": {
          "base_uri": "https://localhost:8080/"
        }
      },
      "execution_count": 38,
      "outputs": [
        {
          "output_type": "stream",
          "name": "stdout",
          "text": [
            "Hasil penjumlahan 5 dan 3 adalah 8\n"
          ]
        }
      ]
    },
    {
      "cell_type": "code",
      "source": [
        "def pangkat_dua(x):\n",
        "  hasil = x ** 2\n",
        "  return hasil\n",
        "\n",
        "# Memanggil fungsi dan menampung hasilnya\n",
        "hasil_pangkat = pangkat_dua(4)\n",
        "print(\"Hasil pangkat dua dari\" , 4, \"adalah\", hasil_pangkat)"
      ],
      "metadata": {
        "id": "aH20OqEb4pW7",
        "outputId": "80bb6eb2-0cb4-4245-c18d-18412e03c612",
        "colab": {
          "base_uri": "https://localhost:8080/"
        }
      },
      "execution_count": 43,
      "outputs": [
        {
          "output_type": "stream",
          "name": "stdout",
          "text": [
            "Hasil pangkat dua dari 4 adalah 16\n"
          ]
        }
      ]
    },
    {
      "cell_type": "code",
      "source": [
        "def pangkat_dua(x):\n",
        "  hasil = x ** 2\n",
        "  return hasil\n",
        "\n",
        "# Memanggil fungsi dan menampung hasilnya\n",
        "print(pangkat_dua(4))"
      ],
      "metadata": {
        "id": "HEflZgE88CBI",
        "outputId": "9c938550-cd6e-4dc6-ac81-c44a66cd99eb",
        "colab": {
          "base_uri": "https://localhost:8080/"
        }
      },
      "execution_count": 42,
      "outputs": [
        {
          "output_type": "stream",
          "name": "stdout",
          "text": [
            "16\n"
          ]
        }
      ]
    },
    {
      "cell_type": "code",
      "source": [
        "def operasi(a,b):\n",
        "  jumlah = a + b\n",
        "  selisih = a - b\n",
        "  return jumlah, selisih\n",
        "\n",
        "# Memanggil fungsi dan menampung hasilnya\n",
        "jml, sel = operasi(10, 4)\n",
        "print(\"Hasil penjumlahan 10 dan 4 adalah\", jml)\n",
        "print(\"Hasil pengurangan 10 dan 4 adalah\", sel)"
      ],
      "metadata": {
        "id": "sMfmuKty85_Q",
        "outputId": "69d4bc8a-766b-44a4-9c17-43670a89799c",
        "colab": {
          "base_uri": "https://localhost:8080/"
        }
      },
      "execution_count": 47,
      "outputs": [
        {
          "output_type": "stream",
          "name": "stdout",
          "text": [
            "Hasil penjumlahan 10 dan 4 adalah 14\n",
            "Hasil pengurangan 10 dan 4 adalah 6\n"
          ]
        }
      ]
    },
    {
      "cell_type": "code",
      "source": [
        "def info_angka(a,b):\n",
        "  bagi = a/b\n",
        "  kali = a * b\n",
        "  return bagi, kali\n",
        "\n",
        "# Memanggil fungsi dan menampung hasilnya\n",
        "bagi, kali = info_angka(10, 4)\n",
        "print(\"Hasil pembagian 10 dan 4 adalah\", bagi)\n",
        "print(\"Hasil perkalian 10 dan 4 adalah\", kali)"
      ],
      "metadata": {
        "id": "-yvz0EMU9R9g",
        "outputId": "d37a6dda-6224-4bd6-9398-00459ecdd8d6",
        "colab": {
          "base_uri": "https://localhost:8080/"
        }
      },
      "execution_count": 48,
      "outputs": [
        {
          "output_type": "stream",
          "name": "stdout",
          "text": [
            "Hasil pembagian 10 dan 4 adalah 2.5\n",
            "Hasil perkalian 10 dan 4 adalah 40\n"
          ]
        }
      ]
    },
    {
      "cell_type": "code",
      "source": [
        "def info_angka(a,b):\n",
        "  bagi = a/b\n",
        "  kali = a * b\n",
        "  return bagi, kali\n",
        "\n",
        "# Memanggil fungsi dan menampung hasilnya\n",
        "info_angka(10, 4)\n",
        "print(\"Hasil pembagian 10 dan 4 adalah\", kali, \"Hasil perkalian 10 dan 4 adalah\", bagi)"
      ],
      "metadata": {
        "id": "DHNhJmu0_YCB",
        "outputId": "ec544633-0b45-4b35-d929-ac3cb226d7e6",
        "colab": {
          "base_uri": "https://localhost:8080/"
        }
      },
      "execution_count": 62,
      "outputs": [
        {
          "output_type": "stream",
          "name": "stdout",
          "text": [
            "Hasil pembagian 10 dan 4 adalah 2.5 Hasil perkalian 10 dan 4 adalah 40\n"
          ]
        }
      ]
    },
    {
      "cell_type": "code",
      "source": [
        "def tambah(a,b):\n",
        "  hasil = a + b\n",
        "  return hasil\n",
        "\n",
        "def kurang(a,b):\n",
        "  hasil = a - b\n",
        "  return hasil\n",
        "\n",
        "def kali(a,b):\n",
        "  hasil = a * b\n",
        "  return hasil\n",
        "\n",
        "def bagi(a,b):\n",
        "  hasil = a / b\n",
        "  return hasil\n",
        "\n",
        "# Input nilai a dan b\n",
        "a = input(\"Masukkan nilai a: \")\n",
        "b = input(\"Masukkan nilai b: \")\n",
        "\n",
        "# Memanggil fungsi dan menampung hasilnya\n",
        "tbh, krg, kl, bg = angka(int(a), int(b))\n",
        "print(\"Hasil penjumlahan adalah\", tbh)\n",
        "print(\"Hasil pengurangan adalah\", krg)\n",
        "print(\"Hasil perkalian adalah\", kl)\n",
        "print(\"Hasil pembagian adalah\", bg)"
      ],
      "metadata": {
        "id": "REG4b6VzAA1o",
        "outputId": "14e4655a-05d7-4b89-8b7d-7e77113d5554",
        "colab": {
          "base_uri": "https://localhost:8080/"
        }
      },
      "execution_count": 68,
      "outputs": [
        {
          "output_type": "stream",
          "name": "stdout",
          "text": [
            "Masukkan nilai a: 20\n",
            "Masukkan nilai b: 4\n",
            "Hasil penjumlahan adalah 24\n",
            "Hasil pengurangan adalah 16\n",
            "Hasil perkalian adalah 80\n",
            "Hasil pembagian adalah 5.0\n"
          ]
        }
      ]
    }
  ],
  "metadata": {
    "colab": {
      "name": "Welcome To Colab",
      "toc_visible": true,
      "provenance": [],
      "include_colab_link": true
    },
    "kernelspec": {
      "display_name": "Python 3",
      "name": "python3"
    }
  },
  "nbformat": 4,
  "nbformat_minor": 0
}