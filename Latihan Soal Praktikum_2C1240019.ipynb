{
  "nbformat": 4,
  "nbformat_minor": 0,
  "metadata": {
    "colab": {
      "provenance": [],
      "authorship_tag": "ABX9TyO/2rUORUJm0sJROhCoX9co",
      "include_colab_link": true
    },
    "kernelspec": {
      "name": "python3",
      "display_name": "Python 3"
    },
    "language_info": {
      "name": "python"
    }
  },
  "cells": [
    {
      "cell_type": "markdown",
      "metadata": {
        "id": "view-in-github",
        "colab_type": "text"
      },
      "source": [
        "<a href=\"https://colab.research.google.com/github/StevvAgri/Steven/blob/main/Latihan%20Soal%20Praktikum_2C1240019.ipynb\" target=\"_parent\"><img src=\"https://colab.research.google.com/assets/colab-badge.svg\" alt=\"Open In Colab\"/></a>"
      ]
    },
    {
      "cell_type": "code",
      "source": [
        "# Soal 1 Nilai Mahasiswa\n",
        "\n",
        "nama = ['A', 'B', 'C', 'D', 'E']\n",
        "nilai = [90, 65, 78, 85, 72]\n",
        "\n",
        "for i in range(len(nama)):\n",
        "    if nilai[i] >= 75:\n",
        "        print(f\"{nama[i]} memiliki nilai {nilai[i]} dinyatakan Lulus\")\n",
        "    else:\n",
        "        print(f\"{nama[i]} memiliki nilai {nilai[i]} dinyatakan Tidak Lulus\")"
      ],
      "metadata": {
        "colab": {
          "base_uri": "https://localhost:8080/"
        },
        "id": "Px69veIhj9uh",
        "outputId": "5c699ba6-2d94-4a79-8502-e7080276f0ef"
      },
      "execution_count": 1,
      "outputs": [
        {
          "output_type": "stream",
          "name": "stdout",
          "text": [
            "A memiliki nilai 90 dinyatakan Lulus\n",
            "B memiliki nilai 65 dinyatakan Tidak Lulus\n",
            "C memiliki nilai 78 dinyatakan Lulus\n",
            "D memiliki nilai 85 dinyatakan Lulus\n",
            "E memiliki nilai 72 dinyatakan Tidak Lulus\n"
          ]
        }
      ]
    },
    {
      "cell_type": "code",
      "source": [
        "# Soal 2 Bilangan Ganjil dan Genap\n",
        "\n",
        "S = int(input(\"Masukkan nilai S: \"))\n",
        "\n",
        "print(\"Angka Ganjil:\")\n",
        "for i in range(1, S+1, 2):\n",
        "    print(i, end=\" \")\n",
        "\n",
        "print(\"\\nAngka Genap:\")\n",
        "for i in range(2, S+1, 2):\n",
        "    print(i, end=\" \")"
      ],
      "metadata": {
        "colab": {
          "base_uri": "https://localhost:8080/"
        },
        "collapsed": true,
        "id": "KbXmHdtAkPxe",
        "outputId": "5cc20e76-c9f9-4b72-9c08-f5255784f213"
      },
      "execution_count": 3,
      "outputs": [
        {
          "output_type": "stream",
          "name": "stdout",
          "text": [
            "Masukkan nilai S: 20\n",
            "Angka Ganjil:\n",
            "1 3 5 7 9 11 13 15 17 19 \n",
            "Angka Genap:\n",
            "2 4 6 8 10 12 14 16 18 20 "
          ]
        }
      ]
    },
    {
      "cell_type": "code",
      "source": [
        "# Soal 3 Bilangan Prima\n",
        "\n",
        "P = int(input(\"Masukkan nilai P: \"))\n",
        "\n",
        "print(\"Bilangan prima dari 1 sampai\", P)\n",
        "for num in range(1, P+1):\n",
        "    is_prime = True\n",
        "    for i in range(2, int(num**0.5) + 1):\n",
        "        if num % i == 0:\n",
        "            is_prime = False\n",
        "            break\n",
        "    if is_prime:\n",
        "        print(num, end=\" \")"
      ],
      "metadata": {
        "colab": {
          "base_uri": "https://localhost:8080/"
        },
        "id": "Xi2m-V66kq_k",
        "outputId": "429f2823-bdd2-46cb-faed-c78e6425677c"
      },
      "execution_count": 5,
      "outputs": [
        {
          "output_type": "stream",
          "name": "stdout",
          "text": [
            "Masukkan nilai P: 30\n",
            "Bilangan prima dari 1 sampai 30\n",
            "1 2 3 5 7 11 13 17 19 23 29 "
          ]
        }
      ]
    },
    {
      "cell_type": "code",
      "source": [
        "# Soal 4\n",
        "# Menampilkan Bilangan Bukan Prima\n",
        "\n",
        "R = int(input(\"Masukkan nilai R: \"))\n",
        "\n",
        "print(\"Bilangan bukan prima dari 1 sampai\", R)\n",
        "for num in range(1, R+1):\n",
        "    is_prime = True\n",
        "    for i in range(2, int(num**0.5) + 1):\n",
        "        if num % i == 0:\n",
        "            is_prime = False\n",
        "            break\n",
        "    if not is_prime:\n",
        "        print(num, end=\" \")"
      ],
      "metadata": {
        "colab": {
          "base_uri": "https://localhost:8080/"
        },
        "id": "YDZDK_4pk98q",
        "outputId": "1a6d57f5-1aec-4325-f778-5376099cff30"
      },
      "execution_count": 6,
      "outputs": [
        {
          "output_type": "stream",
          "name": "stdout",
          "text": [
            "Masukkan nilai R: 30\n",
            "Bilangan bukan prima dari 1 sampai 30\n",
            "4 6 8 9 10 12 14 15 16 18 20 21 22 24 25 26 27 28 30 "
          ]
        }
      ]
    },
    {
      "cell_type": "code",
      "source": [
        "# Soal 5\n",
        "# Perkalian Elemen List\n",
        "\n",
        "t = [2, 5, 8, 3, 6, 9]\n",
        "p = [1, 4, 7, 2, 5, 8]\n",
        "\n",
        "hasil = []\n",
        "for i in range(len(t)):\n",
        "    hasil.append(t[i] * p[i])\n",
        "\n",
        "print(hasil)"
      ],
      "metadata": {
        "colab": {
          "base_uri": "https://localhost:8080/"
        },
        "id": "u5xlypqzlubk",
        "outputId": "2a3e560c-c871-40e8-d640-83d750d86320"
      },
      "execution_count": 7,
      "outputs": [
        {
          "output_type": "stream",
          "name": "stdout",
          "text": [
            "[2, 20, 56, 6, 30, 72]\n"
          ]
        }
      ]
    },
    {
      "cell_type": "code",
      "source": [
        "# Soal 6\n",
        "# Menghitung Total Belanja dan Memeriksa Uang Cukup\n",
        "\n",
        "uang = 15000\n",
        "barang = ['Telur', 'Beras', 'Tepung', 'Daging', 'Tempe']\n",
        "harga = [2000, 15000, 8000, 23000, 6000]\n",
        "\n",
        "# Kasus 1: Keranjang berisi Telur, Beras, dan Tepung\n",
        "keranjang = barang[:3]\n",
        "print(\"Keranjang berisi:\", keranjang)\n",
        "\n",
        "total_belanja = 0\n",
        "for item in keranjang:\n",
        "    index = barang.index(item)\n",
        "    total_belanja += harga[index]\n",
        "\n",
        "if total_belanja <= uang:\n",
        "    print(f\"Uang cukup karena total pembelian sebesar {total_belanja}\")\n",
        "else:\n",
        "    print(f\"Uang tidak cukup karena total pembelian sebesar {total_belanja}\")"
      ],
      "metadata": {
        "colab": {
          "base_uri": "https://localhost:8080/"
        },
        "id": "sJZdsGHOl4lm",
        "outputId": "94aeceba-15da-46c3-d718-b59f0b858c86"
      },
      "execution_count": 17,
      "outputs": [
        {
          "output_type": "stream",
          "name": "stdout",
          "text": [
            "Keranjang berisi: ['Telur', 'Beras', 'Tepung']\n",
            "Uang tidak cukup karena total pembelian sebesar 25000\n"
          ]
        }
      ]
    },
    {
      "cell_type": "code",
      "source": [
        "# Soal 7\n",
        "# Mengubah Isi Keranjang\n",
        "\n",
        "#Kasus 2: Keranjang berisi Telur dan Tepung\n",
        "keranjang = [\"Telur\", \"Tepung\"]\n",
        "print(\"\\nKeranjang berisi:\", keranjang)\n",
        "\n",
        "total_belanja = 0\n",
        "for item in keranjang:\n",
        "    index = barang.index(item)\n",
        "    total_belanja += harga[index]\n",
        "\n",
        "if total_belanja <= uang:\n",
        "    print(f\"Uang cukup karena total pembelian sebesar {total_belanja}\")\n",
        "else:\n",
        "    print(f\"Uang tidak cukup karena total pembelian sebesar {total_belanja}\")"
      ],
      "metadata": {
        "colab": {
          "base_uri": "https://localhost:8080/"
        },
        "id": "4wINsU4kmUN9",
        "outputId": "5b43de0d-897b-45f3-90cb-768e75f89505"
      },
      "execution_count": 21,
      "outputs": [
        {
          "output_type": "stream",
          "name": "stdout",
          "text": [
            "\n",
            "Keranjang berisi: ['Telur', 'Tepung']\n",
            "Uang cukup karena total pembelian sebesar 10000\n"
          ]
        }
      ]
    }
  ]
}