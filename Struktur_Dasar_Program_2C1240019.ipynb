{
  "nbformat": 4,
  "nbformat_minor": 0,
  "metadata": {
    "colab": {
      "provenance": [],
      "authorship_tag": "ABX9TyMF3AQHYJglzAJHMk8OVAeJ",
      "include_colab_link": true
    },
    "kernelspec": {
      "name": "python3",
      "display_name": "Python 3"
    },
    "language_info": {
      "name": "python"
    }
  },
  "cells": [
    {
      "cell_type": "markdown",
      "metadata": {
        "id": "view-in-github",
        "colab_type": "text"
      },
      "source": [
        "<a href=\"https://colab.research.google.com/github/StevvAgri/Steven/blob/main/Struktur_Dasar_Program_2C1240019.ipynb\" target=\"_parent\"><img src=\"https://colab.research.google.com/assets/colab-badge.svg\" alt=\"Open In Colab\"/></a>"
      ]
    },
    {
      "cell_type": "code",
      "source": [
        "# Harga satuan per kelereng\n",
        "harga_merah = 10\n",
        "harga_hijau = 15\n",
        "harga_kuning = 20\n",
        "\n",
        "# Jumlah kelereng yang dibeli\n",
        "jumlah_merah = 5\n",
        "jumlah_hijau = 3\n",
        "jumlah_kuning = 2\n",
        "\n",
        "# Hitung total harga\n",
        "total_harga = (jumlah_merah * harga_merah) + (jumlah_hijau * harga_hijau) + (jumlah_kuning * harga_kuning)\n",
        "\n",
        "# Tampilkan hasil\n",
        "print(\"Total harga yang harus dibayar:\", total_harga,\"rupiah\")"
      ],
      "metadata": {
        "colab": {
          "base_uri": "https://localhost:8080/"
        },
        "id": "7zgafYMQ16zL",
        "outputId": "4b00b728-d93b-4a07-b943-03d5dbe63768"
      },
      "execution_count": null,
      "outputs": [
        {
          "output_type": "stream",
          "name": "stdout",
          "text": [
            "Total harga yang harus dibayar: 135 rupiah\n"
          ]
        }
      ]
    }
  ]
}