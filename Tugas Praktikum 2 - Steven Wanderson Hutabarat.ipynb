{
  "nbformat": 4,
  "nbformat_minor": 0,
  "metadata": {
    "colab": {
      "provenance": [],
      "authorship_tag": "ABX9TyP3niR8qaYV63oDEN6CRMYT",
      "include_colab_link": true
    },
    "kernelspec": {
      "name": "python3",
      "display_name": "Python 3"
    },
    "language_info": {
      "name": "python"
    }
  },
  "cells": [
    {
      "cell_type": "markdown",
      "metadata": {
        "id": "view-in-github",
        "colab_type": "text"
      },
      "source": [
        "<a href=\"https://colab.research.google.com/github/StevvAgri/Steven/blob/main/Tugas%20Praktikum%202%20-%20Steven%20Wanderson%20Hutabarat.ipynb\" target=\"_parent\"><img src=\"https://colab.research.google.com/assets/colab-badge.svg\" alt=\"Open In Colab\"/></a>"
      ]
    },
    {
      "cell_type": "markdown",
      "source": [
        "Soal Array"
      ],
      "metadata": {
        "id": "ctF_UP_hn4qH"
      }
    },
    {
      "cell_type": "code",
      "source": [
        "# Cara 1\n",
        "\n",
        "A = list(map(int, input(\"Array A: \") .split()))\n",
        "jangkauan = A[-1] - A[0]\n",
        "\n",
        "print(f\"Jangkauan nilai di dalam larik A adalah: {jangkauan}\")\n"
      ],
      "metadata": {
        "colab": {
          "base_uri": "https://localhost:8080/"
        },
        "id": "URhrL7LZjXgm",
        "outputId": "5251bfdf-5f4f-4ea0-f98b-fd44125295e1"
      },
      "execution_count": 19,
      "outputs": [
        {
          "output_type": "stream",
          "name": "stdout",
          "text": [
            "Array A: 2 4 5 6 9 10\n",
            "Jangkauan nilai di dalam larik A adalah: 8\n"
          ]
        }
      ]
    },
    {
      "cell_type": "code",
      "source": [
        "# Cara 2\n",
        "\n",
        "# Diasumsikan N elemen = 5\n",
        "A = [3, 5, 7, 8, 9]\n",
        "\n",
        "# Menghitung jangkauan (range)\n",
        "jangkauan = A[-1] - A[0]\n",
        "\n",
        "print(f\"Jangkauan nilai di dalam larik A adalah: {jangkauan}\")"
      ],
      "metadata": {
        "colab": {
          "base_uri": "https://localhost:8080/"
        },
        "id": "lWmWhfDgwC_U",
        "outputId": "2e9c5ba4-ed8e-4ed4-b05f-35f44a64fef6"
      },
      "execution_count": 11,
      "outputs": [
        {
          "output_type": "stream",
          "name": "stdout",
          "text": [
            "Jangkauan nilai di dalam larik A adalah: 6\n"
          ]
        }
      ]
    },
    {
      "cell_type": "markdown",
      "source": [
        "Soal Matriks"
      ],
      "metadata": {
        "id": "InPIaOjml3ha"
      }
    },
    {
      "cell_type": "code",
      "source": [
        "N = int(input(\"Masukkan nilai N: \"))\n",
        "\n",
        "# Inisialisasi matriks dengan semua elemen bernilai 0\n",
        "matriks = [[0 for j in range(N)] for i in range(N)]\n",
        "\n",
        "# Isi baris pertama dan kolom pertama dengan 1\n",
        "for i in range(N):\n",
        "  matriks[i][0] = 1  # Kolom pertama\n",
        "  matriks[0][i] = 1  # Baris pertama\n",
        "\n",
        "# Hitung nilai elemen lainnya\n",
        "for i in range(1, N):\n",
        "  for j in range(1, N):\n",
        "    matriks[i][j] = matriks[i - 1][j] + matriks[i][j - 1]\n",
        "\n",
        "# Tampilkan matriks segitiga Pascal\n",
        "for i in range(N):\n",
        "  for j in range(N):\n",
        "    print(matriks[i][j], end=\" \")\n",
        "  print()  # Pindah ke baris berikutnya"
      ],
      "metadata": {
        "colab": {
          "base_uri": "https://localhost:8080/"
        },
        "id": "5jhCreUglwpx",
        "outputId": "b875e4a2-d202-47c1-e4b8-1448e229a4f4"
      },
      "execution_count": 21,
      "outputs": [
        {
          "output_type": "stream",
          "name": "stdout",
          "text": [
            "Masukkan nilai N: 4\n",
            "1 1 1 1 \n",
            "1 2 3 4 \n",
            "1 3 6 10 \n",
            "1 4 10 20 \n"
          ]
        }
      ]
    }
  ]
}